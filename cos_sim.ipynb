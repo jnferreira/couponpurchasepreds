{
 "cells": [
  {
   "cell_type": "code",
   "execution_count": null,
   "metadata": {},
   "outputs": [],
   "source": [
    "import pandas as pd\n",
    "import numpy as np\n",
    "from sklearn.metrics.pairwise import cosine_similarity\n",
    "from sklearn.feature_extraction.text import CountVectorizer\n",
    "from sklearn.feature_extraction.text import TfidfVectorizer\n",
    "from sklearn.metrics.pairwise import cosine_similarity"
   ]
  },
  {
   "cell_type": "code",
   "execution_count": null,
   "metadata": {},
   "outputs": [],
   "source": [
    "coupon_list_train = pd.read_csv('input/coupon_list_train.csv')\n",
    "coupon_list_test = pd.read_csv('input/coupon_list_test.csv')\n",
    "user_list = pd.read_csv('input/user_list.csv')\n",
    "coupon_purchases_train = pd.read_csv(\"input/coupon_detail_train.csv\")\n",
    "\n",
    "coupon_area_train = pd.read_csv('input/coupon_area_train.csv')\n",
    "coupon_area_test = pd.read_csv('input/coupon_area_test.csv')\n",
    "coupon_visit_train = pd.read_csv('input/coupon_visit_train.csv')"
   ]
  },
  {
   "cell_type": "code",
   "execution_count": null,
   "metadata": {},
   "outputs": [],
   "source": [
    "coupon_list_train"
   ]
  },
  {
   "cell_type": "code",
   "execution_count": null,
   "metadata": {},
   "outputs": [],
   "source": [
    "purchased_coupons_train = coupon_purchases_train.merge(coupon_list_train, on='COUPON_ID_hash',\n",
    "                                                 how='inner')"
   ]
  },
  {
   "cell_type": "code",
   "execution_count": null,
   "metadata": {},
   "outputs": [],
   "source": [
    "purchased_coupons_train"
   ]
  },
  {
   "cell_type": "code",
   "execution_count": null,
   "metadata": {},
   "outputs": [],
   "source": [
    "features = ['COUPON_ID_hash', 'USER_ID_hash',\n",
    "            'GENRE_NAME', 'DISCOUNT_PRICE', 'PRICE_RATE',\n",
    "            'USABLE_DATE_MON', 'USABLE_DATE_TUE', 'USABLE_DATE_WED', 'USABLE_DATE_THU',\n",
    "            'USABLE_DATE_FRI', 'USABLE_DATE_SAT', 'USABLE_DATE_SUN', 'USABLE_DATE_HOLIDAY',\n",
    "            'USABLE_DATE_BEFORE_HOLIDAY', 'large_area_name', 'ken_name', 'small_area_name']"
   ]
  },
  {
   "cell_type": "code",
   "execution_count": null,
   "metadata": {},
   "outputs": [],
   "source": [
    "purchased_coupons_train = purchased_coupons_train[features]"
   ]
  },
  {
   "cell_type": "code",
   "execution_count": null,
   "metadata": {},
   "outputs": [],
   "source": [
    "coupon_list_test['USER_ID_hash'] = 'dummyuser'"
   ]
  },
  {
   "cell_type": "code",
   "execution_count": null,
   "metadata": {},
   "outputs": [],
   "source": [
    "coupon_list_test = coupon_list_test[features]"
   ]
  },
  {
   "cell_type": "code",
   "execution_count": null,
   "metadata": {},
   "outputs": [],
   "source": [
    "combined = pd.concat([purchased_coupons_train, coupon_list_test], axis=0)"
   ]
  },
  {
   "cell_type": "code",
   "execution_count": null,
   "metadata": {},
   "outputs": [],
   "source": [
    "combined['DISCOUNT_PRICE'] = 1 / np.log10(combined['DISCOUNT_PRICE'])\n",
    "combined['PRICE_RATE'] = (combined['PRICE_RATE'] / 100) ** 2\n",
    "features.extend(['DISCOUNT_PRICE', 'PRICE_RATE'])"
   ]
  },
  {
   "cell_type": "code",
   "execution_count": null,
   "metadata": {},
   "outputs": [],
   "source": [
    "categoricals = ['GENRE_NAME', 'USABLE_DATE_MON', 'USABLE_DATE_TUE', 'USABLE_DATE_WED',\n",
    "                'USABLE_DATE_THU', 'USABLE_DATE_FRI', 'USABLE_DATE_SAT', 'USABLE_DATE_SUN',\n",
    "                'USABLE_DATE_HOLIDAY', 'USABLE_DATE_BEFORE_HOLIDAY', 'large_area_name', 'ken_name', 'small_area_name']\n",
    "combined_categoricals = combined[categoricals]\n",
    "combined_categoricals = pd.get_dummies(combined_categoricals,\n",
    "                                    dummy_na=False)"
   ]
  },
  {
   "cell_type": "code",
   "execution_count": null,
   "metadata": {},
   "outputs": [],
   "source": [
    "continuous = list(set(features) - set(categoricals))\n",
    "combined = pd.concat([combined[continuous], combined_categoricals], axis=1)"
   ]
  },
  {
   "cell_type": "code",
   "execution_count": null,
   "metadata": {},
   "outputs": [],
   "source": [
    "NAN_SUBSTITUTION_VALUE = 1\n",
    "combined = combined.fillna(NAN_SUBSTITUTION_VALUE)"
   ]
  },
  {
   "cell_type": "code",
   "execution_count": null,
   "metadata": {},
   "outputs": [],
   "source": [
    "train = combined[combined['USER_ID_hash'] != 'dummyuser']\n",
    "test = combined[combined['USER_ID_hash'] == 'dummyuser']\n",
    "test.drop('USER_ID_hash', inplace=True, axis=1)"
   ]
  },
  {
   "cell_type": "code",
   "execution_count": null,
   "metadata": {},
   "outputs": [],
   "source": [
    "train_dropped_coupons = train.drop('COUPON_ID_hash', axis=1)\n",
    "user_profiles = train_dropped_coupons.groupby(by='USER_ID_hash').apply(np.mean)"
   ]
  },
  {
   "cell_type": "code",
   "execution_count": null,
   "metadata": {},
   "outputs": [],
   "source": [
    "user_profiles"
   ]
  },
  {
   "cell_type": "code",
   "execution_count": null,
   "metadata": {},
   "outputs": [],
   "source": [
    "FEATURE_WEIGHTS = {\n",
    "    'GENRE_NAME': 2,\n",
    "    'DISCOUNT_PRICE': 2,\n",
    "    'PRICE_RATE': 0,\n",
    "    'USABLE_DATE_': 0,\n",
    "    'large_area_name': 0.5,\n",
    "    'ken_name': 1,\n",
    "    'small_area_name': 5\n",
    "}"
   ]
  },
  {
   "cell_type": "code",
   "execution_count": null,
   "metadata": {},
   "outputs": [],
   "source": [
    "def find_appropriate_weight(weights_dict, colname):\n",
    "    for col, weight in weights_dict.items():\n",
    "        if col in colname:\n",
    "            return weight\n",
    "    raise ValueError\n",
    "\n",
    "W_values = [find_appropriate_weight(FEATURE_WEIGHTS, colname) for colname in user_profiles.columns]\n",
    "\n",
    "W = np.diag(W_values)"
   ]
  },
  {
   "cell_type": "code",
   "execution_count": null,
   "metadata": {},
   "outputs": [],
   "source": [
    "W"
   ]
  },
  {
   "cell_type": "code",
   "execution_count": null,
   "metadata": {},
   "outputs": [],
   "source": [
    "test_only_features = test.drop('COUPON_ID_hash', axis=1)\n",
    "similarity_scores = np.dot(np.dot(user_profiles, W), test_only_features.T)"
   ]
  },
  {
   "cell_type": "code",
   "execution_count": null,
   "metadata": {},
   "outputs": [],
   "source": [
    "coupons_ids = test['COUPON_ID_hash']\n",
    "index = user_profiles.index\n",
    "columns = [coupons_ids[i] for i in range(0, similarity_scores.shape[1])]\n",
    "result_df = pd.DataFrame(index=index, columns=columns, data=similarity_scores)"
   ]
  },
  {
   "cell_type": "code",
   "execution_count": null,
   "metadata": {},
   "outputs": [],
   "source": [
    "train_dropped_coupons = train.drop(['COUPON_ID_hash', 'USER_ID_hash'], axis=1)"
   ]
  },
  {
   "cell_type": "code",
   "execution_count": null,
   "metadata": {},
   "outputs": [],
   "source": [
    "result_df"
   ]
  },
  {
   "cell_type": "code",
   "execution_count": null,
   "metadata": {},
   "outputs": [],
   "source": [
    "pd.DataFrame(cosine_similarity(result_df[:20], result_df[:20]))"
   ]
  }
 ],
 "metadata": {
  "kernelspec": {
   "display_name": "'Python Interactive'",
   "language": "python",
   "name": "993d5610-2ef8-4b31-98a2-a0673bb4fe18"
  },
  "language_info": {
   "codemirror_mode": {
    "name": "ipython",
    "version": 3
   },
   "file_extension": ".py",
   "mimetype": "text/x-python",
   "name": "python",
   "nbconvert_exporter": "python",
   "pygments_lexer": "ipython3",
   "version": "3.6.9-final"
  }
 },
 "nbformat": 4,
 "nbformat_minor": 2
}