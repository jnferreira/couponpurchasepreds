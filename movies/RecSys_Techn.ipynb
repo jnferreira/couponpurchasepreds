{
 "nbformat": 4,
 "nbformat_minor": 2,
 "metadata": {
  "language_info": {
   "name": "python",
   "codemirror_mode": {
    "name": "ipython",
    "version": 3
   },
   "version": "3.6.9-final"
  },
  "orig_nbformat": 2,
  "file_extension": ".py",
  "mimetype": "text/x-python",
  "name": "python",
  "npconvert_exporter": "python",
  "pygments_lexer": "ipython3",
  "version": 3,
  "kernelspec": {
   "name": "993d5610-2ef8-4b31-98a2-a0673bb4fe18",
   "display_name": "'Python Interactive'"
  }
 },
 "cells": [
  {
   "cell_type": "markdown",
   "execution_count": null,
   "metadata": {},
   "outputs": [],
   "source": [
    "# Recommender Systems\n",
    "\n",
    "* **Collaborative Filtering**: This method makes automatic predictions (filtering) about the interests of a user by collecting preferences or taste information from many users (collaborating). The underlying assumption of the collaborative filtering approach is that if a person A has the same opinion as a person B on a set of items, A is more likely to have B's opinion for a given item than that of a randomly chosen person.\n",
    "\n",
    "* **Content-Based Filtering**: This method uses only information about the description and attributes of the items users has previously consumed to model user's preferences. In other words, these algorithms try to recommend items that are similar to those that a user liked in the past (or is examining in the present). In particular, various candidate items are compared with items previously rated by the user and the best-matching items are recommended.\n",
    "\n",
    "* **Hybrid methods**: Recent research has demonstrated that a hybrid approach, combining collaborative filtering and content-based filtering could be more effective than pure approaches in some cases. These methods can also be used to overcome some of the common problems in recommender systems such as cold start and the sparsity problem.\n",
    "\n",
    "\n",
    "\n",
    "## DATA https://www.kaggle.com/gspmoreira/articles-sharing-reading-from-cit-deskdrop/download\n"
   ]
  },
  {
   "cell_type": "code",
   "execution_count": 18,
   "metadata": {},
   "outputs": [
    {
     "name": "stdout",
     "output_type": "stream",
     "text": "[nltk_data] Downloading package stopwords to\n[nltk_data]     /home/nunoferreira/nltk_data...\n[nltk_data]   Unzipping corpora/stopwords.zip.\n"
    },
    {
     "data": {
      "text/plain": "True"
     },
     "execution_count": 18,
     "metadata": {},
     "output_type": "execute_result"
    }
   ],
   "source": [
    "import numpy as np\n",
    "import scipy\n",
    "import pandas as pd\n",
    "import math\n",
    "import random\n",
    "import sklearn\n",
    "from nltk.corpus import stopwords\n",
    "from scipy.sparse import csr_matrix\n",
    "from sklearn.model_selection import train_test_split\n",
    "from sklearn.feature_extraction.text import TfidfVectorizer\n",
    "from sklearn.metrics.pairwise import cosine_similarity\n",
    "from scipy.sparse.linalg import svds\n",
    "from sklearn.preprocessing import MinMaxScaler\n",
    "import matplotlib.pyplot as plt\n",
    "import nltk\n",
    "nltk.download('stopwords')"
   ]
  },
  {
   "cell_type": "code",
   "execution_count": 2,
   "metadata": {},
   "outputs": [
    {
     "data": {
      "text/html": "<div>\n<style scoped>\n    .dataframe tbody tr th:only-of-type {\n        vertical-align: middle;\n    }\n\n    .dataframe tbody tr th {\n        vertical-align: top;\n    }\n\n    .dataframe thead th {\n        text-align: right;\n    }\n</style>\n<table border=\"1\" class=\"dataframe\">\n  <thead>\n    <tr style=\"text-align: right;\">\n      <th></th>\n      <th>timestamp</th>\n      <th>eventType</th>\n      <th>contentId</th>\n      <th>authorPersonId</th>\n      <th>authorSessionId</th>\n      <th>authorUserAgent</th>\n      <th>authorRegion</th>\n      <th>authorCountry</th>\n      <th>contentType</th>\n      <th>url</th>\n      <th>title</th>\n      <th>text</th>\n      <th>lang</th>\n    </tr>\n  </thead>\n  <tbody>\n    <tr>\n      <th>1</th>\n      <td>1459193988</td>\n      <td>CONTENT SHARED</td>\n      <td>-4110354420726924665</td>\n      <td>4340306774493623681</td>\n      <td>8940341205206233829</td>\n      <td>NaN</td>\n      <td>NaN</td>\n      <td>NaN</td>\n      <td>HTML</td>\n      <td>http://www.nytimes.com/2016/03/28/business/dea...</td>\n      <td>Ethereum, a Virtual Currency, Enables Transact...</td>\n      <td>All of this work is still very early. The firs...</td>\n      <td>en</td>\n    </tr>\n    <tr>\n      <th>2</th>\n      <td>1459194146</td>\n      <td>CONTENT SHARED</td>\n      <td>-7292285110016212249</td>\n      <td>4340306774493623681</td>\n      <td>8940341205206233829</td>\n      <td>NaN</td>\n      <td>NaN</td>\n      <td>NaN</td>\n      <td>HTML</td>\n      <td>http://cointelegraph.com/news/bitcoin-future-w...</td>\n      <td>Bitcoin Future: When GBPcoin of Branson Wins O...</td>\n      <td>The alarm clock wakes me at 8:00 with stream o...</td>\n      <td>en</td>\n    </tr>\n    <tr>\n      <th>3</th>\n      <td>1459194474</td>\n      <td>CONTENT SHARED</td>\n      <td>-6151852268067518688</td>\n      <td>3891637997717104548</td>\n      <td>-1457532940883382585</td>\n      <td>NaN</td>\n      <td>NaN</td>\n      <td>NaN</td>\n      <td>HTML</td>\n      <td>https://cloudplatform.googleblog.com/2016/03/G...</td>\n      <td>Google Data Center 360° Tour</td>\n      <td>We're excited to share the Google Data Center ...</td>\n      <td>en</td>\n    </tr>\n    <tr>\n      <th>4</th>\n      <td>1459194497</td>\n      <td>CONTENT SHARED</td>\n      <td>2448026894306402386</td>\n      <td>4340306774493623681</td>\n      <td>8940341205206233829</td>\n      <td>NaN</td>\n      <td>NaN</td>\n      <td>NaN</td>\n      <td>HTML</td>\n      <td>https://bitcoinmagazine.com/articles/ibm-wants...</td>\n      <td>IBM Wants to \"Evolve the Internet\" With Blockc...</td>\n      <td>The Aite Group projects the blockchain market ...</td>\n      <td>en</td>\n    </tr>\n    <tr>\n      <th>5</th>\n      <td>1459194522</td>\n      <td>CONTENT SHARED</td>\n      <td>-2826566343807132236</td>\n      <td>4340306774493623681</td>\n      <td>8940341205206233829</td>\n      <td>NaN</td>\n      <td>NaN</td>\n      <td>NaN</td>\n      <td>HTML</td>\n      <td>http://www.coindesk.com/ieee-blockchain-oxford...</td>\n      <td>IEEE to Talk Blockchain at Cloud Computing Oxf...</td>\n      <td>One of the largest and oldest organizations fo...</td>\n      <td>en</td>\n    </tr>\n  </tbody>\n</table>\n</div>",
      "text/plain": "    timestamp       eventType            contentId       authorPersonId  \\\n1  1459193988  CONTENT SHARED -4110354420726924665  4340306774493623681   \n2  1459194146  CONTENT SHARED -7292285110016212249  4340306774493623681   \n3  1459194474  CONTENT SHARED -6151852268067518688  3891637997717104548   \n4  1459194497  CONTENT SHARED  2448026894306402386  4340306774493623681   \n5  1459194522  CONTENT SHARED -2826566343807132236  4340306774493623681   \n\n       authorSessionId authorUserAgent authorRegion authorCountry contentType  \\\n1  8940341205206233829             NaN          NaN           NaN        HTML   \n2  8940341205206233829             NaN          NaN           NaN        HTML   \n3 -1457532940883382585             NaN          NaN           NaN        HTML   \n4  8940341205206233829             NaN          NaN           NaN        HTML   \n5  8940341205206233829             NaN          NaN           NaN        HTML   \n\n                                                 url  \\\n1  http://www.nytimes.com/2016/03/28/business/dea...   \n2  http://cointelegraph.com/news/bitcoin-future-w...   \n3  https://cloudplatform.googleblog.com/2016/03/G...   \n4  https://bitcoinmagazine.com/articles/ibm-wants...   \n5  http://www.coindesk.com/ieee-blockchain-oxford...   \n\n                                               title  \\\n1  Ethereum, a Virtual Currency, Enables Transact...   \n2  Bitcoin Future: When GBPcoin of Branson Wins O...   \n3                       Google Data Center 360° Tour   \n4  IBM Wants to \"Evolve the Internet\" With Blockc...   \n5  IEEE to Talk Blockchain at Cloud Computing Oxf...   \n\n                                                text lang  \n1  All of this work is still very early. The firs...   en  \n2  The alarm clock wakes me at 8:00 with stream o...   en  \n3  We're excited to share the Google Data Center ...   en  \n4  The Aite Group projects the blockchain market ...   en  \n5  One of the largest and oldest organizations fo...   en  "
     },
     "execution_count": 2,
     "metadata": {},
     "output_type": "execute_result"
    }
   ],
   "source": [
    "articles_df = pd.read_csv('input/articles-sharing-reading-from-cit-deskdrop/shared_articles.csv')\n",
    "articles_df = articles_df[articles_df['eventType'] == 'CONTENT SHARED']\n",
    "articles_df.head(5)"
   ]
  },
  {
   "cell_type": "code",
   "execution_count": 3,
   "metadata": {},
   "outputs": [
    {
     "data": {
      "text/html": "<div>\n<style scoped>\n    .dataframe tbody tr th:only-of-type {\n        vertical-align: middle;\n    }\n\n    .dataframe tbody tr th {\n        vertical-align: top;\n    }\n\n    .dataframe thead th {\n        text-align: right;\n    }\n</style>\n<table border=\"1\" class=\"dataframe\">\n  <thead>\n    <tr style=\"text-align: right;\">\n      <th></th>\n      <th>timestamp</th>\n      <th>eventType</th>\n      <th>contentId</th>\n      <th>personId</th>\n      <th>sessionId</th>\n      <th>userAgent</th>\n      <th>userRegion</th>\n      <th>userCountry</th>\n    </tr>\n  </thead>\n  <tbody>\n    <tr>\n      <th>0</th>\n      <td>1465413032</td>\n      <td>VIEW</td>\n      <td>-3499919498720038879</td>\n      <td>-8845298781299428018</td>\n      <td>1264196770339959068</td>\n      <td>NaN</td>\n      <td>NaN</td>\n      <td>NaN</td>\n    </tr>\n    <tr>\n      <th>1</th>\n      <td>1465412560</td>\n      <td>VIEW</td>\n      <td>8890720798209849691</td>\n      <td>-1032019229384696495</td>\n      <td>3621737643587579081</td>\n      <td>Mozilla/5.0 (Macintosh; Intel Mac OS X 10_11_2...</td>\n      <td>NY</td>\n      <td>US</td>\n    </tr>\n    <tr>\n      <th>2</th>\n      <td>1465416190</td>\n      <td>VIEW</td>\n      <td>310515487419366995</td>\n      <td>-1130272294246983140</td>\n      <td>2631864456530402479</td>\n      <td>NaN</td>\n      <td>NaN</td>\n      <td>NaN</td>\n    </tr>\n    <tr>\n      <th>3</th>\n      <td>1465413895</td>\n      <td>FOLLOW</td>\n      <td>310515487419366995</td>\n      <td>344280948527967603</td>\n      <td>-3167637573980064150</td>\n      <td>NaN</td>\n      <td>NaN</td>\n      <td>NaN</td>\n    </tr>\n    <tr>\n      <th>4</th>\n      <td>1465412290</td>\n      <td>VIEW</td>\n      <td>-7820640624231356730</td>\n      <td>-445337111692715325</td>\n      <td>5611481178424124714</td>\n      <td>NaN</td>\n      <td>NaN</td>\n      <td>NaN</td>\n    </tr>\n    <tr>\n      <th>5</th>\n      <td>1465413742</td>\n      <td>VIEW</td>\n      <td>310515487419366995</td>\n      <td>-8763398617720485024</td>\n      <td>1395789369402380392</td>\n      <td>Mozilla/5.0 (Windows NT 10.0; WOW64) AppleWebK...</td>\n      <td>MG</td>\n      <td>BR</td>\n    </tr>\n    <tr>\n      <th>6</th>\n      <td>1465415950</td>\n      <td>VIEW</td>\n      <td>-8864073373672512525</td>\n      <td>3609194402293569455</td>\n      <td>1143207167886864524</td>\n      <td>NaN</td>\n      <td>NaN</td>\n      <td>NaN</td>\n    </tr>\n    <tr>\n      <th>7</th>\n      <td>1465415066</td>\n      <td>VIEW</td>\n      <td>-1492913151930215984</td>\n      <td>4254153380739593270</td>\n      <td>8743229464706506141</td>\n      <td>Mozilla/5.0 (X11; Linux x86_64) AppleWebKit/53...</td>\n      <td>SP</td>\n      <td>BR</td>\n    </tr>\n    <tr>\n      <th>8</th>\n      <td>1465413762</td>\n      <td>VIEW</td>\n      <td>310515487419366995</td>\n      <td>344280948527967603</td>\n      <td>-3167637573980064150</td>\n      <td>NaN</td>\n      <td>NaN</td>\n      <td>NaN</td>\n    </tr>\n    <tr>\n      <th>9</th>\n      <td>1465413771</td>\n      <td>VIEW</td>\n      <td>3064370296170038610</td>\n      <td>3609194402293569455</td>\n      <td>1143207167886864524</td>\n      <td>NaN</td>\n      <td>NaN</td>\n      <td>NaN</td>\n    </tr>\n  </tbody>\n</table>\n</div>",
      "text/plain": "    timestamp eventType            contentId             personId  \\\n0  1465413032      VIEW -3499919498720038879 -8845298781299428018   \n1  1465412560      VIEW  8890720798209849691 -1032019229384696495   \n2  1465416190      VIEW   310515487419366995 -1130272294246983140   \n3  1465413895    FOLLOW   310515487419366995   344280948527967603   \n4  1465412290      VIEW -7820640624231356730  -445337111692715325   \n5  1465413742      VIEW   310515487419366995 -8763398617720485024   \n6  1465415950      VIEW -8864073373672512525  3609194402293569455   \n7  1465415066      VIEW -1492913151930215984  4254153380739593270   \n8  1465413762      VIEW   310515487419366995   344280948527967603   \n9  1465413771      VIEW  3064370296170038610  3609194402293569455   \n\n             sessionId                                          userAgent  \\\n0  1264196770339959068                                                NaN   \n1  3621737643587579081  Mozilla/5.0 (Macintosh; Intel Mac OS X 10_11_2...   \n2  2631864456530402479                                                NaN   \n3 -3167637573980064150                                                NaN   \n4  5611481178424124714                                                NaN   \n5  1395789369402380392  Mozilla/5.0 (Windows NT 10.0; WOW64) AppleWebK...   \n6  1143207167886864524                                                NaN   \n7  8743229464706506141  Mozilla/5.0 (X11; Linux x86_64) AppleWebKit/53...   \n8 -3167637573980064150                                                NaN   \n9  1143207167886864524                                                NaN   \n\n  userRegion userCountry  \n0        NaN         NaN  \n1         NY          US  \n2        NaN         NaN  \n3        NaN         NaN  \n4        NaN         NaN  \n5         MG          BR  \n6        NaN         NaN  \n7         SP          BR  \n8        NaN         NaN  \n9        NaN         NaN  "
     },
     "execution_count": 3,
     "metadata": {},
     "output_type": "execute_result"
    }
   ],
   "source": [
    "interactions_df = pd.read_csv('input/articles-sharing-reading-from-cit-deskdrop/users_interactions.csv')\n",
    "interactions_df.head(10)"
   ]
  },
  {
   "cell_type": "code",
   "execution_count": 4,
   "metadata": {},
   "outputs": [],
   "source": [
    "event_type_strength = {\n",
    "   'VIEW': 1.0,\n",
    "   'LIKE': 2.0, \n",
    "   'BOOKMARK': 2.5, \n",
    "   'FOLLOW': 3.0,\n",
    "   'COMMENT CREATED': 4.0,  \n",
    "}\n",
    "\n",
    "interactions_df['eventStrength'] = interactions_df['eventType'].apply(lambda x: event_type_strength[x])"
   ]
  },
  {
   "cell_type": "markdown",
   "execution_count": null,
   "metadata": {},
   "outputs": [],
   "source": [
    "* Recommender systems have a problem known as user cold-start, in which is hard do provide personalized recommendations for users with none or a very few number of consumed items, due to the lack of information to model their preferences.\n",
    "For this reason, we are keeping in the dataset only users with at leas 5 interactions."
   ]
  },
  {
   "cell_type": "code",
   "execution_count": 5,
   "metadata": {},
   "outputs": [
    {
     "name": "stdout",
     "output_type": "stream",
     "text": "# users: 1895\n# users with at least 5 interactions: 1140\n"
    }
   ],
   "source": [
    "users_interactions_count_df = interactions_df.groupby(['personId', 'contentId']).size().groupby('personId').size()\n",
    "print('# users: %d' % len(users_interactions_count_df))\n",
    "users_with_enough_interactions_df = users_interactions_count_df[users_interactions_count_df >= 5].reset_index()[['personId']]\n",
    "print('# users with at least 5 interactions: %d' % len(users_with_enough_interactions_df))"
   ]
  },
  {
   "cell_type": "code",
   "execution_count": 6,
   "metadata": {},
   "outputs": [
    {
     "name": "stdout",
     "output_type": "stream",
     "text": "# of interactions: 72312\n# of interactions from users with at least 5 interactions: 69868\n"
    }
   ],
   "source": [
    "print('# of interactions: %d' % len(interactions_df))\n",
    "interactions_from_selected_users_df = interactions_df.merge(users_with_enough_interactions_df, \n",
    "               how = 'right',\n",
    "               left_on = 'personId',\n",
    "               right_on = 'personId')\n",
    "print('# of interactions from users with at least 5 interactions: %d' % len(interactions_from_selected_users_df))"
   ]
  },
  {
   "cell_type": "code",
   "execution_count": 7,
   "metadata": {},
   "outputs": [
    {
     "name": "stdout",
     "output_type": "stream",
     "text": "# of unique user/item interactions: 39106\n"
    },
    {
     "data": {
      "text/html": "<div>\n<style scoped>\n    .dataframe tbody tr th:only-of-type {\n        vertical-align: middle;\n    }\n\n    .dataframe tbody tr th {\n        vertical-align: top;\n    }\n\n    .dataframe thead th {\n        text-align: right;\n    }\n</style>\n<table border=\"1\" class=\"dataframe\">\n  <thead>\n    <tr style=\"text-align: right;\">\n      <th></th>\n      <th>personId</th>\n      <th>contentId</th>\n      <th>eventStrength</th>\n    </tr>\n  </thead>\n  <tbody>\n    <tr>\n      <th>0</th>\n      <td>-9223121837663643404</td>\n      <td>-8949113594875411859</td>\n      <td>1.000000</td>\n    </tr>\n    <tr>\n      <th>1</th>\n      <td>-9223121837663643404</td>\n      <td>-8377626164558006982</td>\n      <td>1.000000</td>\n    </tr>\n    <tr>\n      <th>2</th>\n      <td>-9223121837663643404</td>\n      <td>-8208801367848627943</td>\n      <td>1.000000</td>\n    </tr>\n    <tr>\n      <th>3</th>\n      <td>-9223121837663643404</td>\n      <td>-8187220755213888616</td>\n      <td>1.000000</td>\n    </tr>\n    <tr>\n      <th>4</th>\n      <td>-9223121837663643404</td>\n      <td>-7423191370472335463</td>\n      <td>3.169925</td>\n    </tr>\n    <tr>\n      <th>5</th>\n      <td>-9223121837663643404</td>\n      <td>-7331393944609614247</td>\n      <td>1.000000</td>\n    </tr>\n    <tr>\n      <th>6</th>\n      <td>-9223121837663643404</td>\n      <td>-6872546942144599345</td>\n      <td>1.000000</td>\n    </tr>\n    <tr>\n      <th>7</th>\n      <td>-9223121837663643404</td>\n      <td>-6728844082024523434</td>\n      <td>1.000000</td>\n    </tr>\n    <tr>\n      <th>8</th>\n      <td>-9223121837663643404</td>\n      <td>-6590819806697898649</td>\n      <td>1.000000</td>\n    </tr>\n    <tr>\n      <th>9</th>\n      <td>-9223121837663643404</td>\n      <td>-6558712014192834002</td>\n      <td>1.584963</td>\n    </tr>\n  </tbody>\n</table>\n</div>",
      "text/plain": "              personId            contentId  eventStrength\n0 -9223121837663643404 -8949113594875411859       1.000000\n1 -9223121837663643404 -8377626164558006982       1.000000\n2 -9223121837663643404 -8208801367848627943       1.000000\n3 -9223121837663643404 -8187220755213888616       1.000000\n4 -9223121837663643404 -7423191370472335463       3.169925\n5 -9223121837663643404 -7331393944609614247       1.000000\n6 -9223121837663643404 -6872546942144599345       1.000000\n7 -9223121837663643404 -6728844082024523434       1.000000\n8 -9223121837663643404 -6590819806697898649       1.000000\n9 -9223121837663643404 -6558712014192834002       1.584963"
     },
     "execution_count": 7,
     "metadata": {},
     "output_type": "execute_result"
    }
   ],
   "source": [
    "def smooth_user_preference(x):\n",
    "    return math.log(1+x, 2)\n",
    "    \n",
    "interactions_full_df = interactions_from_selected_users_df \\\n",
    "                    .groupby(['personId', 'contentId'])['eventStrength'].sum() \\\n",
    "                    .apply(smooth_user_preference).reset_index()\n",
    "print('# of unique user/item interactions: %d' % len(interactions_full_df))\n",
    "interactions_full_df.head(10)"
   ]
  },
  {
   "cell_type": "code",
   "execution_count": 8,
   "metadata": {},
   "outputs": [
    {
     "name": "stdout",
     "output_type": "stream",
     "text": "# interactions on Train set: 31284\n# interactions on Test set: 7822\n"
    }
   ],
   "source": [
    "interactions_train_df, interactions_test_df = train_test_split(interactions_full_df,\n",
    "                                   stratify=interactions_full_df['personId'], \n",
    "                                   test_size=0.20,\n",
    "                                   random_state=42)\n",
    "\n",
    "print('# interactions on Train set: %d' % len(interactions_train_df))\n",
    "print('# interactions on Test set: %d' % len(interactions_test_df))"
   ]
  },
  {
   "cell_type": "code",
   "execution_count": 9,
   "metadata": {},
   "outputs": [],
   "source": [
    "#Indexing by personId to speed up the searches during evaluation\n",
    "interactions_full_indexed_df = interactions_full_df.set_index('personId')\n",
    "interactions_train_indexed_df = interactions_train_df.set_index('personId')\n",
    "interactions_test_indexed_df = interactions_test_df.set_index('personId')"
   ]
  },
  {
   "cell_type": "code",
   "execution_count": 10,
   "metadata": {},
   "outputs": [],
   "source": [
    "def get_items_interacted(person_id, interactions_df):\n",
    "    # Get the user's data and merge in the movie information.\n",
    "    interacted_items = interactions_df.loc[person_id]['contentId']\n",
    "    return set(interacted_items if type(interacted_items) == pd.Series else [interacted_items])"
   ]
  },
  {
   "cell_type": "code",
   "execution_count": 11,
   "metadata": {},
   "outputs": [],
   "source": [
    "#Top-N accuracy metrics consts\n",
    "EVAL_RANDOM_SAMPLE_NON_INTERACTED_ITEMS = 100\n",
    "\n",
    "class ModelEvaluator:\n",
    "\n",
    "\n",
    "    def get_not_interacted_items_sample(self, person_id, sample_size, seed=42):\n",
    "        interacted_items = get_items_interacted(person_id, interactions_full_indexed_df)\n",
    "        all_items = set(articles_df['contentId'])\n",
    "        non_interacted_items = all_items - interacted_items\n",
    "\n",
    "        random.seed(seed)\n",
    "        non_interacted_items_sample = random.sample(non_interacted_items, sample_size)\n",
    "        return set(non_interacted_items_sample)\n",
    "\n",
    "    def _verify_hit_top_n(self, item_id, recommended_items, topn):        \n",
    "            try:\n",
    "                index = next(i for i, c in enumerate(recommended_items) if c == item_id)\n",
    "            except:\n",
    "                index = -1\n",
    "            hit = int(index in range(0, topn))\n",
    "            return hit, index\n",
    "\n",
    "    def evaluate_model_for_user(self, model, person_id):\n",
    "        #Getting the items in test set\n",
    "        interacted_values_testset = interactions_test_indexed_df.loc[person_id]\n",
    "        if type(interacted_values_testset['contentId']) == pd.Series:\n",
    "            person_interacted_items_testset = set(interacted_values_testset['contentId'])\n",
    "        else:\n",
    "            person_interacted_items_testset = set([int(interacted_values_testset['contentId'])])  \n",
    "        interacted_items_count_testset = len(person_interacted_items_testset) \n",
    "\n",
    "        #Getting a ranked recommendation list from a model for a given user\n",
    "        person_recs_df = model.recommend_items(person_id, \n",
    "                                               items_to_ignore=get_items_interacted(person_id, \n",
    "                                                                                    interactions_train_indexed_df), \n",
    "                                               topn=10000000000)\n",
    "\n",
    "        hits_at_5_count = 0\n",
    "        hits_at_10_count = 0\n",
    "        #For each item the user has interacted in test set\n",
    "        for item_id in person_interacted_items_testset:\n",
    "            #Getting a random sample (100) items the user has not interacted \n",
    "            #(to represent items that are assumed to be no relevant to the user)\n",
    "            non_interacted_items_sample = self.get_not_interacted_items_sample(person_id, \n",
    "                                                                          sample_size=EVAL_RANDOM_SAMPLE_NON_INTERACTED_ITEMS, \n",
    "                                                                          seed=item_id%(2**32))\n",
    "\n",
    "            #Combining the current interacted item with the 100 random items\n",
    "            items_to_filter_recs = non_interacted_items_sample.union(set([item_id]))\n",
    "\n",
    "            #Filtering only recommendations that are either the interacted item or from a random sample of 100 non-interacted items\n",
    "            valid_recs_df = person_recs_df[person_recs_df['contentId'].isin(items_to_filter_recs)]                    \n",
    "            valid_recs = valid_recs_df['contentId'].values\n",
    "            #Verifying if the current interacted item is among the Top-N recommended items\n",
    "            hit_at_5, index_at_5 = self._verify_hit_top_n(item_id, valid_recs, 5)\n",
    "            hits_at_5_count += hit_at_5\n",
    "            hit_at_10, index_at_10 = self._verify_hit_top_n(item_id, valid_recs, 10)\n",
    "            hits_at_10_count += hit_at_10\n",
    "\n",
    "        #Recall is the rate of the interacted items that are ranked among the Top-N recommended items, \n",
    "        #when mixed with a set of non-relevant items\n",
    "        recall_at_5 = hits_at_5_count / float(interacted_items_count_testset)\n",
    "        recall_at_10 = hits_at_10_count / float(interacted_items_count_testset)\n",
    "\n",
    "        person_metrics = {'hits@5_count':hits_at_5_count, \n",
    "                          'hits@10_count':hits_at_10_count, \n",
    "                          'interacted_count': interacted_items_count_testset,\n",
    "                          'recall@5': recall_at_5,\n",
    "                          'recall@10': recall_at_10}\n",
    "        return person_metrics\n",
    "\n",
    "    def evaluate_model(self, model):\n",
    "        #print('Running evaluation for users')\n",
    "        people_metrics = []\n",
    "        for idx, person_id in enumerate(list(interactions_test_indexed_df.index.unique().values)):\n",
    "            #if idx % 100 == 0 and idx > 0:\n",
    "            #    print('%d users processed' % idx)\n",
    "            person_metrics = self.evaluate_model_for_user(model, person_id)  \n",
    "            person_metrics['_person_id'] = person_id\n",
    "            people_metrics.append(person_metrics)\n",
    "        print('%d users processed' % idx)\n",
    "\n",
    "        detailed_results_df = pd.DataFrame(people_metrics) \\\n",
    "                            .sort_values('interacted_count', ascending=False)\n",
    "        \n",
    "        global_recall_at_5 = detailed_results_df['hits@5_count'].sum() / float(detailed_results_df['interacted_count'].sum())\n",
    "        global_recall_at_10 = detailed_results_df['hits@10_count'].sum() / float(detailed_results_df['interacted_count'].sum())\n",
    "        \n",
    "        global_metrics = {'modelName': model.get_model_name(),\n",
    "                          'recall@5': global_recall_at_5,\n",
    "                          'recall@10': global_recall_at_10}    \n",
    "        return global_metrics, detailed_results_df\n",
    "    \n",
    "model_evaluator = ModelEvaluator()    "
   ]
  },
  {
   "cell_type": "markdown",
   "execution_count": null,
   "metadata": {},
   "outputs": [],
   "source": [
    "## Popularity model\n",
    "\n",
    "* The main objective of a recommender system is to leverage the long-tail items to the users with very specific interests, which goes far beyond this simple technique."
   ]
  },
  {
   "cell_type": "code",
   "execution_count": 12,
   "metadata": {},
   "outputs": [
    {
     "data": {
      "text/html": "<div>\n<style scoped>\n    .dataframe tbody tr th:only-of-type {\n        vertical-align: middle;\n    }\n\n    .dataframe tbody tr th {\n        vertical-align: top;\n    }\n\n    .dataframe thead th {\n        text-align: right;\n    }\n</style>\n<table border=\"1\" class=\"dataframe\">\n  <thead>\n    <tr style=\"text-align: right;\">\n      <th></th>\n      <th>contentId</th>\n      <th>eventStrength</th>\n    </tr>\n  </thead>\n  <tbody>\n    <tr>\n      <th>0</th>\n      <td>-4029704725707465084</td>\n      <td>307.733799</td>\n    </tr>\n    <tr>\n      <th>1</th>\n      <td>-6783772548752091658</td>\n      <td>233.762157</td>\n    </tr>\n    <tr>\n      <th>2</th>\n      <td>-133139342397538859</td>\n      <td>228.024567</td>\n    </tr>\n    <tr>\n      <th>3</th>\n      <td>-8208801367848627943</td>\n      <td>197.107608</td>\n    </tr>\n    <tr>\n      <th>4</th>\n      <td>-6843047699859121724</td>\n      <td>193.825208</td>\n    </tr>\n    <tr>\n      <th>5</th>\n      <td>8224860111193157980</td>\n      <td>189.044680</td>\n    </tr>\n    <tr>\n      <th>6</th>\n      <td>-2358756719610361882</td>\n      <td>183.110951</td>\n    </tr>\n    <tr>\n      <th>7</th>\n      <td>2581138407738454418</td>\n      <td>180.282876</td>\n    </tr>\n    <tr>\n      <th>8</th>\n      <td>7507067965574797372</td>\n      <td>179.094002</td>\n    </tr>\n    <tr>\n      <th>9</th>\n      <td>1469580151036142903</td>\n      <td>170.548969</td>\n    </tr>\n  </tbody>\n</table>\n</div>",
      "text/plain": "             contentId  eventStrength\n0 -4029704725707465084     307.733799\n1 -6783772548752091658     233.762157\n2  -133139342397538859     228.024567\n3 -8208801367848627943     197.107608\n4 -6843047699859121724     193.825208\n5  8224860111193157980     189.044680\n6 -2358756719610361882     183.110951\n7  2581138407738454418     180.282876\n8  7507067965574797372     179.094002\n9  1469580151036142903     170.548969"
     },
     "execution_count": 12,
     "metadata": {},
     "output_type": "execute_result"
    }
   ],
   "source": [
    "item_popularity_df = interactions_full_df.groupby('contentId')['eventStrength'].sum().sort_values(ascending=False).reset_index()\n",
    "item_popularity_df.head(10)"
   ]
  },
  {
   "cell_type": "code",
   "execution_count": 13,
   "metadata": {},
   "outputs": [],
   "source": [
    "class PopularityRecommender:\n",
    "    \n",
    "    MODEL_NAME = 'Popularity'\n",
    "    \n",
    "    def __init__(self, popularity_df, items_df=None):\n",
    "        self.popularity_df = popularity_df\n",
    "        self.items_df = items_df\n",
    "        \n",
    "    def get_model_name(self):\n",
    "        return self.MODEL_NAME\n",
    "        \n",
    "    def recommend_items(self, user_id, items_to_ignore=[], topn=10, verbose=False):\n",
    "        # Recommend the more popular items that the user hasn't seen yet.\n",
    "        recommendations_df = self.popularity_df[~self.popularity_df['contentId'].isin(items_to_ignore)] \\\n",
    "                               .sort_values('eventStrength', ascending = False) \\\n",
    "                               .head(topn)\n",
    "\n",
    "        if verbose:\n",
    "            if self.items_df is None:\n",
    "                raise Exception('\"items_df\" is required in verbose mode')\n",
    "\n",
    "            recommendations_df = recommendations_df.merge(self.items_df, how = 'left', \n",
    "                                                          left_on = 'contentId', \n",
    "                                                          right_on = 'contentId')[['eventStrength', 'contentId', 'title', 'url', 'lang']]\n",
    "\n",
    "\n",
    "        return recommendations_df\n",
    "    \n",
    "popularity_model = PopularityRecommender(item_popularity_df, articles_df)"
   ]
  },
  {
   "cell_type": "code",
   "execution_count": 14,
   "metadata": {},
   "outputs": [
    {
     "name": "stdout",
     "output_type": "stream",
     "text": "Evaluating Popularity recommendation model...\n1139 users processed\n\nGlobal metrics:\n{'modelName': 'Popularity', 'recall@5': 0.2417540271030427, 'recall@10': 0.37292252620813093}\n"
    },
    {
     "data": {
      "text/html": "<div>\n<style scoped>\n    .dataframe tbody tr th:only-of-type {\n        vertical-align: middle;\n    }\n\n    .dataframe tbody tr th {\n        vertical-align: top;\n    }\n\n    .dataframe thead th {\n        text-align: right;\n    }\n</style>\n<table border=\"1\" class=\"dataframe\">\n  <thead>\n    <tr style=\"text-align: right;\">\n      <th></th>\n      <th>_person_id</th>\n      <th>hits@10_count</th>\n      <th>hits@5_count</th>\n      <th>interacted_count</th>\n      <th>recall@10</th>\n      <th>recall@5</th>\n    </tr>\n  </thead>\n  <tbody>\n    <tr>\n      <th>76</th>\n      <td>3609194402293569455</td>\n      <td>50</td>\n      <td>28</td>\n      <td>192</td>\n      <td>0.260417</td>\n      <td>0.145833</td>\n    </tr>\n    <tr>\n      <th>17</th>\n      <td>-2626634673110551643</td>\n      <td>25</td>\n      <td>12</td>\n      <td>134</td>\n      <td>0.186567</td>\n      <td>0.089552</td>\n    </tr>\n    <tr>\n      <th>16</th>\n      <td>-1032019229384696495</td>\n      <td>23</td>\n      <td>13</td>\n      <td>130</td>\n      <td>0.176923</td>\n      <td>0.100000</td>\n    </tr>\n    <tr>\n      <th>10</th>\n      <td>-1443636648652872475</td>\n      <td>9</td>\n      <td>5</td>\n      <td>117</td>\n      <td>0.076923</td>\n      <td>0.042735</td>\n    </tr>\n    <tr>\n      <th>82</th>\n      <td>-2979881261169775358</td>\n      <td>40</td>\n      <td>25</td>\n      <td>88</td>\n      <td>0.454545</td>\n      <td>0.284091</td>\n    </tr>\n    <tr>\n      <th>161</th>\n      <td>-3596626804281480007</td>\n      <td>18</td>\n      <td>12</td>\n      <td>80</td>\n      <td>0.225000</td>\n      <td>0.150000</td>\n    </tr>\n    <tr>\n      <th>65</th>\n      <td>1116121227607581999</td>\n      <td>33</td>\n      <td>20</td>\n      <td>73</td>\n      <td>0.452055</td>\n      <td>0.273973</td>\n    </tr>\n    <tr>\n      <th>81</th>\n      <td>692689608292948411</td>\n      <td>23</td>\n      <td>17</td>\n      <td>69</td>\n      <td>0.333333</td>\n      <td>0.246377</td>\n    </tr>\n    <tr>\n      <th>106</th>\n      <td>-9016528795238256703</td>\n      <td>18</td>\n      <td>14</td>\n      <td>69</td>\n      <td>0.260870</td>\n      <td>0.202899</td>\n    </tr>\n    <tr>\n      <th>52</th>\n      <td>3636910968448833585</td>\n      <td>28</td>\n      <td>21</td>\n      <td>68</td>\n      <td>0.411765</td>\n      <td>0.308824</td>\n    </tr>\n  </tbody>\n</table>\n</div>",
      "text/plain": "              _person_id  hits@10_count  hits@5_count  interacted_count  \\\n76   3609194402293569455             50            28               192   \n17  -2626634673110551643             25            12               134   \n16  -1032019229384696495             23            13               130   \n10  -1443636648652872475              9             5               117   \n82  -2979881261169775358             40            25                88   \n161 -3596626804281480007             18            12                80   \n65   1116121227607581999             33            20                73   \n81    692689608292948411             23            17                69   \n106 -9016528795238256703             18            14                69   \n52   3636910968448833585             28            21                68   \n\n     recall@10  recall@5  \n76    0.260417  0.145833  \n17    0.186567  0.089552  \n16    0.176923  0.100000  \n10    0.076923  0.042735  \n82    0.454545  0.284091  \n161   0.225000  0.150000  \n65    0.452055  0.273973  \n81    0.333333  0.246377  \n106   0.260870  0.202899  \n52    0.411765  0.308824  "
     },
     "execution_count": 14,
     "metadata": {},
     "output_type": "execute_result"
    }
   ],
   "source": [
    "print('Evaluating Popularity recommendation model...')\n",
    "pop_global_metrics, pop_detailed_results_df = model_evaluator.evaluate_model(popularity_model)\n",
    "print('\\nGlobal metrics:\\n%s' % pop_global_metrics)\n",
    "pop_detailed_results_df.head(10)"
   ]
  },
  {
   "cell_type": "markdown",
   "execution_count": null,
   "metadata": {},
   "outputs": [],
   "source": [
    "## Content-Based Filtering model"
   ]
  },
  {
   "cell_type": "code",
   "execution_count": 19,
   "metadata": {},
   "outputs": [
    {
     "data": {
      "text/plain": "<3047x5000 sparse matrix of type '<class 'numpy.float64'>'\n\twith 638928 stored elements in Compressed Sparse Row format>"
     },
     "execution_count": 19,
     "metadata": {},
     "output_type": "execute_result"
    }
   ],
   "source": [
    "#Ignoring stopwords (words with no semantics) from English and Portuguese (as we have a corpus with mixed languages)\n",
    "stopwords_list = stopwords.words('english') + stopwords.words('portuguese')\n",
    "\n",
    "#Trains a model whose vectors size is 5000, composed by the main unigrams and bigrams found in the corpus, ignoring stopwords\n",
    "vectorizer = TfidfVectorizer(analyzer='word',\n",
    "                     ngram_range=(1, 2),\n",
    "                     min_df=0.003,\n",
    "                     max_df=0.5,\n",
    "                     max_features=5000,\n",
    "                     stop_words=stopwords_list)\n",
    "\n",
    "item_ids = articles_df['contentId'].tolist()\n",
    "tfidf_matrix = vectorizer.fit_transform(articles_df['title'] + \"\" + articles_df['text'])\n",
    "tfidf_feature_names = vectorizer.get_feature_names()\n",
    "tfidf_matrix"
   ]
  },
  {
   "cell_type": "code",
   "execution_count": 20,
   "metadata": {},
   "outputs": [],
   "source": [
    "def get_item_profile(item_id):\n",
    "    idx = item_ids.index(item_id)\n",
    "    item_profile = tfidf_matrix[idx:idx+1]\n",
    "    return item_profile\n",
    "\n",
    "def get_item_profiles(ids):\n",
    "    item_profiles_list = [get_item_profile(x) for x in ids]\n",
    "    item_profiles = scipy.sparse.vstack(item_profiles_list)\n",
    "    return item_profiles\n",
    "\n",
    "def build_users_profile(person_id, interactions_indexed_df):\n",
    "    interactions_person_df = interactions_indexed_df.loc[person_id]\n",
    "    user_item_profiles = get_item_profiles(interactions_person_df['contentId'])\n",
    "    \n",
    "    user_item_strengths = np.array(interactions_person_df['eventStrength']).reshape(-1,1)\n",
    "    #Weighted average of item profiles by the interactions strength\n",
    "    user_item_strengths_weighted_avg = np.sum(user_item_profiles.multiply(user_item_strengths), axis=0) / np.sum(user_item_strengths)\n",
    "    user_profile_norm = sklearn.preprocessing.normalize(user_item_strengths_weighted_avg)\n",
    "    return user_profile_norm\n",
    "\n",
    "def build_users_profiles(): \n",
    "    interactions_indexed_df = interactions_train_df[interactions_train_df['contentId'] \\\n",
    "                                                   .isin(articles_df['contentId'])].set_index('personId')\n",
    "    user_profiles = {}\n",
    "    for person_id in interactions_indexed_df.index.unique():\n",
    "        user_profiles[person_id] = build_users_profile(person_id, interactions_indexed_df)\n",
    "    return user_profiles"
   ]
  },
  {
   "cell_type": "code",
   "execution_count": 21,
   "metadata": {},
   "outputs": [
    {
     "data": {
      "text/plain": "1140"
     },
     "execution_count": 21,
     "metadata": {},
     "output_type": "execute_result"
    }
   ],
   "source": [
    "user_profiles = build_users_profiles()\n",
    "len(user_profiles)"
   ]
  },
  {
   "cell_type": "code",
   "execution_count": 22,
   "metadata": {},
   "outputs": [
    {
     "name": "stdout",
     "output_type": "stream",
     "text": "(1, 5000)\n"
    },
    {
     "data": {
      "text/html": "<div>\n<style scoped>\n    .dataframe tbody tr th:only-of-type {\n        vertical-align: middle;\n    }\n\n    .dataframe tbody tr th {\n        vertical-align: top;\n    }\n\n    .dataframe thead th {\n        text-align: right;\n    }\n</style>\n<table border=\"1\" class=\"dataframe\">\n  <thead>\n    <tr style=\"text-align: right;\">\n      <th></th>\n      <th>token</th>\n      <th>relevance</th>\n    </tr>\n  </thead>\n  <tbody>\n    <tr>\n      <th>0</th>\n      <td>learning</td>\n      <td>0.298732</td>\n    </tr>\n    <tr>\n      <th>1</th>\n      <td>machine learning</td>\n      <td>0.245992</td>\n    </tr>\n    <tr>\n      <th>2</th>\n      <td>machine</td>\n      <td>0.237843</td>\n    </tr>\n    <tr>\n      <th>3</th>\n      <td>google</td>\n      <td>0.202839</td>\n    </tr>\n    <tr>\n      <th>4</th>\n      <td>data</td>\n      <td>0.169776</td>\n    </tr>\n    <tr>\n      <th>5</th>\n      <td>ai</td>\n      <td>0.156203</td>\n    </tr>\n    <tr>\n      <th>6</th>\n      <td>algorithms</td>\n      <td>0.115666</td>\n    </tr>\n    <tr>\n      <th>7</th>\n      <td>like</td>\n      <td>0.097744</td>\n    </tr>\n    <tr>\n      <th>8</th>\n      <td>language</td>\n      <td>0.087609</td>\n    </tr>\n    <tr>\n      <th>9</th>\n      <td>people</td>\n      <td>0.082024</td>\n    </tr>\n    <tr>\n      <th>10</th>\n      <td>deep</td>\n      <td>0.081542</td>\n    </tr>\n    <tr>\n      <th>11</th>\n      <td>deep learning</td>\n      <td>0.080979</td>\n    </tr>\n    <tr>\n      <th>12</th>\n      <td>research</td>\n      <td>0.076020</td>\n    </tr>\n    <tr>\n      <th>13</th>\n      <td>algorithm</td>\n      <td>0.074905</td>\n    </tr>\n    <tr>\n      <th>14</th>\n      <td>apple</td>\n      <td>0.074050</td>\n    </tr>\n    <tr>\n      <th>15</th>\n      <td>intelligence</td>\n      <td>0.072663</td>\n    </tr>\n    <tr>\n      <th>16</th>\n      <td>use</td>\n      <td>0.072597</td>\n    </tr>\n    <tr>\n      <th>17</th>\n      <td>human</td>\n      <td>0.072494</td>\n    </tr>\n    <tr>\n      <th>18</th>\n      <td>models</td>\n      <td>0.072388</td>\n    </tr>\n    <tr>\n      <th>19</th>\n      <td>artificial</td>\n      <td>0.072062</td>\n    </tr>\n  </tbody>\n</table>\n</div>",
      "text/plain": "               token  relevance\n0           learning   0.298732\n1   machine learning   0.245992\n2            machine   0.237843\n3             google   0.202839\n4               data   0.169776\n5                 ai   0.156203\n6         algorithms   0.115666\n7               like   0.097744\n8           language   0.087609\n9             people   0.082024\n10              deep   0.081542\n11     deep learning   0.080979\n12          research   0.076020\n13         algorithm   0.074905\n14             apple   0.074050\n15      intelligence   0.072663\n16               use   0.072597\n17             human   0.072494\n18            models   0.072388\n19        artificial   0.072062"
     },
     "execution_count": 22,
     "metadata": {},
     "output_type": "execute_result"
    }
   ],
   "source": [
    "myprofile = user_profiles[-1479311724257856983]\n",
    "print(myprofile.shape)\n",
    "pd.DataFrame(sorted(zip(tfidf_feature_names, \n",
    "                        user_profiles[-1479311724257856983].flatten().tolist()), key=lambda x: -x[1])[:20],\n",
    "             columns=['token', 'relevance'])"
   ]
  },
  {
   "cell_type": "code",
   "execution_count": 23,
   "metadata": {},
   "outputs": [],
   "source": [
    "class ContentBasedRecommender:\n",
    "    \n",
    "    MODEL_NAME = 'Content-Based'\n",
    "    \n",
    "    def __init__(self, items_df=None):\n",
    "        self.item_ids = item_ids\n",
    "        self.items_df = items_df\n",
    "        \n",
    "    def get_model_name(self):\n",
    "        return self.MODEL_NAME\n",
    "        \n",
    "    def _get_similar_items_to_user_profile(self, person_id, topn=1000):\n",
    "        #Computes the cosine similarity between the user profile and all item profiles\n",
    "        cosine_similarities = cosine_similarity(user_profiles[person_id], tfidf_matrix)\n",
    "        #Gets the top similar items\n",
    "        similar_indices = cosine_similarities.argsort().flatten()[-topn:]\n",
    "        #Sort the similar items by similarity\n",
    "        similar_items = sorted([(item_ids[i], cosine_similarities[0,i]) for i in similar_indices], key=lambda x: -x[1])\n",
    "        return similar_items\n",
    "        \n",
    "    def recommend_items(self, user_id, items_to_ignore=[], topn=10, verbose=False):\n",
    "        similar_items = self._get_similar_items_to_user_profile(user_id)\n",
    "        #Ignores items the user has already interacted\n",
    "        similar_items_filtered = list(filter(lambda x: x[0] not in items_to_ignore, similar_items))\n",
    "        \n",
    "        recommendations_df = pd.DataFrame(similar_items_filtered, columns=['contentId', 'recStrength']) \\\n",
    "                                    .head(topn)\n",
    "\n",
    "        if verbose:\n",
    "            if self.items_df is None:\n",
    "                raise Exception('\"items_df\" is required in verbose mode')\n",
    "\n",
    "            recommendations_df = recommendations_df.merge(self.items_df, how = 'left', \n",
    "                                                          left_on = 'contentId', \n",
    "                                                          right_on = 'contentId')[['recStrength', 'contentId', 'title', 'url', 'lang']]\n",
    "\n",
    "\n",
    "        return recommendations_df\n",
    "    \n",
    "content_based_recommender_model = ContentBasedRecommender(articles_df)"
   ]
  },
  {
   "cell_type": "code",
   "execution_count": 24,
   "metadata": {},
   "outputs": [
    {
     "name": "stdout",
     "output_type": "stream",
     "text": "Evaluating Content-Based Filtering model...\n1139 users processed\n\nGlobal metrics:\n{'modelName': 'Content-Based', 'recall@5': 0.16287394528253643, 'recall@10': 0.2614420864229097}\n"
    },
    {
     "data": {
      "text/html": "<div>\n<style scoped>\n    .dataframe tbody tr th:only-of-type {\n        vertical-align: middle;\n    }\n\n    .dataframe tbody tr th {\n        vertical-align: top;\n    }\n\n    .dataframe thead th {\n        text-align: right;\n    }\n</style>\n<table border=\"1\" class=\"dataframe\">\n  <thead>\n    <tr style=\"text-align: right;\">\n      <th></th>\n      <th>_person_id</th>\n      <th>hits@10_count</th>\n      <th>hits@5_count</th>\n      <th>interacted_count</th>\n      <th>recall@10</th>\n      <th>recall@5</th>\n    </tr>\n  </thead>\n  <tbody>\n    <tr>\n      <th>76</th>\n      <td>3609194402293569455</td>\n      <td>24</td>\n      <td>15</td>\n      <td>192</td>\n      <td>0.125000</td>\n      <td>0.078125</td>\n    </tr>\n    <tr>\n      <th>17</th>\n      <td>-2626634673110551643</td>\n      <td>29</td>\n      <td>18</td>\n      <td>134</td>\n      <td>0.216418</td>\n      <td>0.134328</td>\n    </tr>\n    <tr>\n      <th>16</th>\n      <td>-1032019229384696495</td>\n      <td>33</td>\n      <td>20</td>\n      <td>130</td>\n      <td>0.253846</td>\n      <td>0.153846</td>\n    </tr>\n    <tr>\n      <th>10</th>\n      <td>-1443636648652872475</td>\n      <td>47</td>\n      <td>32</td>\n      <td>117</td>\n      <td>0.401709</td>\n      <td>0.273504</td>\n    </tr>\n    <tr>\n      <th>82</th>\n      <td>-2979881261169775358</td>\n      <td>15</td>\n      <td>6</td>\n      <td>88</td>\n      <td>0.170455</td>\n      <td>0.068182</td>\n    </tr>\n    <tr>\n      <th>161</th>\n      <td>-3596626804281480007</td>\n      <td>23</td>\n      <td>11</td>\n      <td>80</td>\n      <td>0.287500</td>\n      <td>0.137500</td>\n    </tr>\n    <tr>\n      <th>65</th>\n      <td>1116121227607581999</td>\n      <td>13</td>\n      <td>8</td>\n      <td>73</td>\n      <td>0.178082</td>\n      <td>0.109589</td>\n    </tr>\n    <tr>\n      <th>81</th>\n      <td>692689608292948411</td>\n      <td>19</td>\n      <td>8</td>\n      <td>69</td>\n      <td>0.275362</td>\n      <td>0.115942</td>\n    </tr>\n    <tr>\n      <th>106</th>\n      <td>-9016528795238256703</td>\n      <td>9</td>\n      <td>3</td>\n      <td>69</td>\n      <td>0.130435</td>\n      <td>0.043478</td>\n    </tr>\n    <tr>\n      <th>52</th>\n      <td>3636910968448833585</td>\n      <td>8</td>\n      <td>3</td>\n      <td>68</td>\n      <td>0.117647</td>\n      <td>0.044118</td>\n    </tr>\n  </tbody>\n</table>\n</div>",
      "text/plain": "              _person_id  hits@10_count  hits@5_count  interacted_count  \\\n76   3609194402293569455             24            15               192   \n17  -2626634673110551643             29            18               134   \n16  -1032019229384696495             33            20               130   \n10  -1443636648652872475             47            32               117   \n82  -2979881261169775358             15             6                88   \n161 -3596626804281480007             23            11                80   \n65   1116121227607581999             13             8                73   \n81    692689608292948411             19             8                69   \n106 -9016528795238256703              9             3                69   \n52   3636910968448833585              8             3                68   \n\n     recall@10  recall@5  \n76    0.125000  0.078125  \n17    0.216418  0.134328  \n16    0.253846  0.153846  \n10    0.401709  0.273504  \n82    0.170455  0.068182  \n161   0.287500  0.137500  \n65    0.178082  0.109589  \n81    0.275362  0.115942  \n106   0.130435  0.043478  \n52    0.117647  0.044118  "
     },
     "execution_count": 24,
     "metadata": {},
     "output_type": "execute_result"
    }
   ],
   "source": [
    "print('Evaluating Content-Based Filtering model...')\n",
    "cb_global_metrics, cb_detailed_results_df = model_evaluator.evaluate_model(content_based_recommender_model)\n",
    "print('\\nGlobal metrics:\\n%s' % cb_global_metrics)\n",
    "cb_detailed_results_df.head(10)"
   ]
  },
  {
   "cell_type": "markdown",
   "execution_count": null,
   "metadata": {},
   "outputs": [],
   "source": [
    "## Collaborative Filtering model\n",
    "\n",
    "### * Memory-based: \n",
    "This approach uses the memory of previous users interactions to compute users similarities based on items they've interacted (user-based approach) or compute items similarities based on the users that have interacted with them (item-based approach).\n",
    "A typical example of this approach is User Neighbourhood-based CF, in which the top-N similar users (usually computed using Pearson correlation) for a user are selected and used to recommend items those similar users liked, but the current user have not interacted yet. This approach is very simple to implement, but usually do not scale well for many users.\n",
    "\n",
    "### * Model-based: \n",
    "This approach, models are developed using different machine learning algorithms to recommend items to users. There are many model-based CF algorithms, like neural networks, bayesian networks, clustering models, and latent factor models such as Singular Value Decomposition (SVD) and, probabilistic latent semantic analysis.\n",
    "\n"
   ]
  },
  {
   "cell_type": "code",
   "execution_count": null,
   "metadata": {},
   "outputs": [],
   "source": []
  }
 ]
}