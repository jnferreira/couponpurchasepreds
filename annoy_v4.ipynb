{
 "nbformat": 4,
 "nbformat_minor": 2,
 "metadata": {
  "language_info": {
   "name": "python",
   "codemirror_mode": {
    "name": "ipython",
    "version": 3
   },
   "version": "3.6.9-final"
  },
  "orig_nbformat": 2,
  "file_extension": ".py",
  "mimetype": "text/x-python",
  "name": "python",
  "npconvert_exporter": "python",
  "pygments_lexer": "ipython3",
  "version": 3,
  "kernelspec": {
   "name": "python271764bitd514dbc1c5d74cd4a95833a7d7f70eea",
   "display_name": "Python 2.7.17 64-bit"
  }
 },
 "cells": [
  {
   "cell_type": "code",
   "execution_count": 1,
   "metadata": {},
   "outputs": [],
   "source": [
    "import pandas as pd\n",
    "import numpy as np\n",
    "from sklearn.metrics.pairwise import cosine_similarity\n",
    "from sklearn.feature_extraction.text import CountVectorizer\n",
    "from sklearn.feature_extraction.text import TfidfVectorizer\n",
    "from sklearn.metrics.pairwise import cosine_similarity\n",
    "from annoy import AnnoyIndex\n",
    "import random"
   ]
  },
  {
   "cell_type": "code",
   "execution_count": 2,
   "metadata": {},
   "outputs": [],
   "source": [
    "coupon_list_train = pd.read_csv('input/coupon_list_train.csv')\n",
    "coupon_list_test = pd.read_csv('input/coupon_list_test.csv')\n",
    "user_list = pd.read_csv('input/user_list.csv')\n",
    "coupon_purchases_train = pd.read_csv(\"input/coupon_detail_train.csv\")\n",
    "\n",
    "coupon_area_train = pd.read_csv('input/coupon_area_train.csv')\n",
    "coupon_area_test = pd.read_csv('input/coupon_area_test.csv')\n",
    "coupon_visit_train = pd.read_csv('input/coupon_visit_train.csv')"
   ]
  },
  {
   "cell_type": "code",
   "execution_count": 3,
   "metadata": {},
   "outputs": [],
   "source": [
    "purchased_coupons_train = coupon_purchases_train.merge(coupon_list_train, on='COUPON_ID_hash', how='inner')"
   ]
  },
  {
   "cell_type": "code",
   "execution_count": 4,
   "metadata": {},
   "outputs": [],
   "source": [
    "features = ['COUPON_ID_hash', 'USER_ID_hash',\n",
    "            'GENRE_NAME', 'DISCOUNT_PRICE', 'PRICE_RATE',\n",
    "            'USABLE_DATE_MON', 'USABLE_DATE_TUE', 'USABLE_DATE_WED', 'USABLE_DATE_THU',\n",
    "            'USABLE_DATE_FRI', 'USABLE_DATE_SAT', 'USABLE_DATE_SUN', 'USABLE_DATE_HOLIDAY',\n",
    "            'USABLE_DATE_BEFORE_HOLIDAY', 'large_area_name', 'ken_name', 'small_area_name']"
   ]
  },
  {
   "cell_type": "code",
   "execution_count": 5,
   "metadata": {},
   "outputs": [],
   "source": [
    "purchased_coupons_train = purchased_coupons_train[features]"
   ]
  },
  {
   "cell_type": "code",
   "execution_count": 6,
   "metadata": {},
   "outputs": [],
   "source": [
    "# 10000 ROWS\n",
    "df = purchased_coupons_train.copy()\n",
    "df = df[:10000] "
   ]
  },
  {
   "cell_type": "code",
   "execution_count": 7,
   "metadata": {},
   "outputs": [],
   "source": [
    "df['DISCOUNT_PRICE'] = 1 / np.log10(df['DISCOUNT_PRICE'])\n",
    "df['PRICE_RATE'] = (df['PRICE_RATE'] / 100) ** 2"
   ]
  },
  {
   "cell_type": "code",
   "execution_count": 8,
   "metadata": {},
   "outputs": [],
   "source": [
    "df_temp = df.copy()\n",
    "\n",
    "categorical_cols = ['COUPON_ID_hash', 'USER_ID_hash', 'GENRE_NAME', 'large_area_name', 'ken_name', 'small_area_name']"
   ]
  },
  {
   "cell_type": "code",
   "execution_count": 9,
   "metadata": {},
   "outputs": [
    {
     "data": {
      "text/html": "<div>\n<style scoped>\n    .dataframe tbody tr th:only-of-type {\n        vertical-align: middle;\n    }\n\n    .dataframe tbody tr th {\n        vertical-align: top;\n    }\n\n    .dataframe thead th {\n        text-align: right;\n    }\n</style>\n<table border=\"1\" class=\"dataframe\">\n  <thead>\n    <tr style=\"text-align: right;\">\n      <th></th>\n      <th>COUPON_ID_hash</th>\n      <th>USER_ID_hash</th>\n      <th>GENRE_NAME</th>\n      <th>DISCOUNT_PRICE</th>\n      <th>PRICE_RATE</th>\n      <th>USABLE_DATE_MON</th>\n      <th>USABLE_DATE_TUE</th>\n      <th>USABLE_DATE_WED</th>\n      <th>USABLE_DATE_THU</th>\n      <th>USABLE_DATE_FRI</th>\n      <th>USABLE_DATE_SAT</th>\n      <th>USABLE_DATE_SUN</th>\n      <th>USABLE_DATE_HOLIDAY</th>\n      <th>USABLE_DATE_BEFORE_HOLIDAY</th>\n      <th>large_area_name</th>\n      <th>ken_name</th>\n      <th>small_area_name</th>\n    </tr>\n  </thead>\n  <tbody>\n    <tr>\n      <th>0</th>\n      <td>34c48f84026e08355dc3bd19b427f09a</td>\n      <td>d9dca3cb44bab12ba313eaa681f663eb</td>\n      <td>宅配</td>\n      <td>0.312766</td>\n      <td>0.6084</td>\n      <td>NaN</td>\n      <td>NaN</td>\n      <td>NaN</td>\n      <td>NaN</td>\n      <td>NaN</td>\n      <td>NaN</td>\n      <td>NaN</td>\n      <td>NaN</td>\n      <td>NaN</td>\n      <td>関東</td>\n      <td>東京都</td>\n      <td>新宿・高田馬場・中野・吉祥寺</td>\n    </tr>\n    <tr>\n      <th>1</th>\n      <td>34c48f84026e08355dc3bd19b427f09a</td>\n      <td>dd8a79645e8170db6a91bad1d89b4055</td>\n      <td>宅配</td>\n      <td>0.312766</td>\n      <td>0.6084</td>\n      <td>NaN</td>\n      <td>NaN</td>\n      <td>NaN</td>\n      <td>NaN</td>\n      <td>NaN</td>\n      <td>NaN</td>\n      <td>NaN</td>\n      <td>NaN</td>\n      <td>NaN</td>\n      <td>関東</td>\n      <td>東京都</td>\n      <td>新宿・高田馬場・中野・吉祥寺</td>\n    </tr>\n    <tr>\n      <th>2</th>\n      <td>34c48f84026e08355dc3bd19b427f09a</td>\n      <td>658249379aaaf2b2320061e5218c0c2c</td>\n      <td>宅配</td>\n      <td>0.312766</td>\n      <td>0.6084</td>\n      <td>NaN</td>\n      <td>NaN</td>\n      <td>NaN</td>\n      <td>NaN</td>\n      <td>NaN</td>\n      <td>NaN</td>\n      <td>NaN</td>\n      <td>NaN</td>\n      <td>NaN</td>\n      <td>関東</td>\n      <td>東京都</td>\n      <td>新宿・高田馬場・中野・吉祥寺</td>\n    </tr>\n  </tbody>\n</table>\n</div>",
      "text/plain": "                     COUPON_ID_hash                      USER_ID_hash  \\\n0  34c48f84026e08355dc3bd19b427f09a  d9dca3cb44bab12ba313eaa681f663eb   \n1  34c48f84026e08355dc3bd19b427f09a  dd8a79645e8170db6a91bad1d89b4055   \n2  34c48f84026e08355dc3bd19b427f09a  658249379aaaf2b2320061e5218c0c2c   \n\n  GENRE_NAME  DISCOUNT_PRICE  PRICE_RATE  USABLE_DATE_MON  USABLE_DATE_TUE  \\\n0         宅配        0.312766      0.6084              NaN              NaN   \n1         宅配        0.312766      0.6084              NaN              NaN   \n2         宅配        0.312766      0.6084              NaN              NaN   \n\n   USABLE_DATE_WED  USABLE_DATE_THU  USABLE_DATE_FRI  USABLE_DATE_SAT  \\\n0              NaN              NaN              NaN              NaN   \n1              NaN              NaN              NaN              NaN   \n2              NaN              NaN              NaN              NaN   \n\n   USABLE_DATE_SUN  USABLE_DATE_HOLIDAY  USABLE_DATE_BEFORE_HOLIDAY  \\\n0              NaN                  NaN                         NaN   \n1              NaN                  NaN                         NaN   \n2              NaN                  NaN                         NaN   \n\n  large_area_name ken_name small_area_name  \n0              関東      東京都  新宿・高田馬場・中野・吉祥寺  \n1              関東      東京都  新宿・高田馬場・中野・吉祥寺  \n2              関東      東京都  新宿・高田馬場・中野・吉祥寺  "
     },
     "execution_count": 9,
     "metadata": {},
     "output_type": "execute_result"
    }
   ],
   "source": [
    "df_temp.head(3)"
   ]
  },
  {
   "cell_type": "code",
   "execution_count": 10,
   "metadata": {},
   "outputs": [
    {
     "data": {
      "text/html": "<div>\n<style scoped>\n    .dataframe tbody tr th:only-of-type {\n        vertical-align: middle;\n    }\n\n    .dataframe tbody tr th {\n        vertical-align: top;\n    }\n\n    .dataframe thead th {\n        text-align: right;\n    }\n</style>\n<table border=\"1\" class=\"dataframe\">\n  <thead>\n    <tr style=\"text-align: right;\">\n      <th></th>\n      <th>COUPON_ID_hash</th>\n      <th>USER_ID_hash</th>\n      <th>GENRE_NAME</th>\n      <th>DISCOUNT_PRICE</th>\n      <th>PRICE_RATE</th>\n      <th>USABLE_DATE_MON</th>\n      <th>USABLE_DATE_TUE</th>\n      <th>USABLE_DATE_WED</th>\n      <th>USABLE_DATE_THU</th>\n      <th>USABLE_DATE_FRI</th>\n      <th>USABLE_DATE_SAT</th>\n      <th>USABLE_DATE_SUN</th>\n      <th>USABLE_DATE_HOLIDAY</th>\n      <th>USABLE_DATE_BEFORE_HOLIDAY</th>\n      <th>large_area_name</th>\n      <th>ken_name</th>\n      <th>small_area_name</th>\n    </tr>\n  </thead>\n  <tbody>\n    <tr>\n      <th>0</th>\n      <td>12</td>\n      <td>6643</td>\n      <td>8</td>\n      <td>0.312766</td>\n      <td>0.6084</td>\n      <td>-1.0</td>\n      <td>-1.0</td>\n      <td>-1.0</td>\n      <td>-1.0</td>\n      <td>-1.0</td>\n      <td>-1.0</td>\n      <td>-1.0</td>\n      <td>-1.0</td>\n      <td>-1.0</td>\n      <td>4</td>\n      <td>7</td>\n      <td>9</td>\n    </tr>\n    <tr>\n      <th>1</th>\n      <td>12</td>\n      <td>6761</td>\n      <td>8</td>\n      <td>0.312766</td>\n      <td>0.6084</td>\n      <td>-1.0</td>\n      <td>-1.0</td>\n      <td>-1.0</td>\n      <td>-1.0</td>\n      <td>-1.0</td>\n      <td>-1.0</td>\n      <td>-1.0</td>\n      <td>-1.0</td>\n      <td>-1.0</td>\n      <td>4</td>\n      <td>7</td>\n      <td>9</td>\n    </tr>\n    <tr>\n      <th>2</th>\n      <td>12</td>\n      <td>3072</td>\n      <td>8</td>\n      <td>0.312766</td>\n      <td>0.6084</td>\n      <td>-1.0</td>\n      <td>-1.0</td>\n      <td>-1.0</td>\n      <td>-1.0</td>\n      <td>-1.0</td>\n      <td>-1.0</td>\n      <td>-1.0</td>\n      <td>-1.0</td>\n      <td>-1.0</td>\n      <td>4</td>\n      <td>7</td>\n      <td>9</td>\n    </tr>\n  </tbody>\n</table>\n</div>",
      "text/plain": "   COUPON_ID_hash  USER_ID_hash  GENRE_NAME  DISCOUNT_PRICE  PRICE_RATE  \\\n0              12          6643           8        0.312766      0.6084   \n1              12          6761           8        0.312766      0.6084   \n2              12          3072           8        0.312766      0.6084   \n\n   USABLE_DATE_MON  USABLE_DATE_TUE  USABLE_DATE_WED  USABLE_DATE_THU  \\\n0             -1.0             -1.0             -1.0             -1.0   \n1             -1.0             -1.0             -1.0             -1.0   \n2             -1.0             -1.0             -1.0             -1.0   \n\n   USABLE_DATE_FRI  USABLE_DATE_SAT  USABLE_DATE_SUN  USABLE_DATE_HOLIDAY  \\\n0             -1.0             -1.0             -1.0                 -1.0   \n1             -1.0             -1.0             -1.0                 -1.0   \n2             -1.0             -1.0             -1.0                 -1.0   \n\n   USABLE_DATE_BEFORE_HOLIDAY  large_area_name  ken_name  small_area_name  \n0                        -1.0                4         7                9  \n1                        -1.0                4         7                9  \n2                        -1.0                4         7                9  "
     },
     "execution_count": 10,
     "metadata": {},
     "output_type": "execute_result"
    }
   ],
   "source": [
    "from sklearn.preprocessing import LabelEncoder\n",
    "\n",
    "le = LabelEncoder()\n",
    "\n",
    "df_temp[categorical_cols] = df_temp[categorical_cols].apply(lambda col: le.fit_transform(col))\n",
    "df_temp = df_temp.fillna(-1)\n",
    "df_temp.head(3)"
   ]
  },
  {
   "cell_type": "code",
   "execution_count": 11,
   "metadata": {},
   "outputs": [
    {
     "data": {
      "text/html": "<div>\n<style scoped>\n    .dataframe tbody tr th:only-of-type {\n        vertical-align: middle;\n    }\n\n    .dataframe tbody tr th {\n        vertical-align: top;\n    }\n\n    .dataframe thead th {\n        text-align: right;\n    }\n</style>\n<table border=\"1\" class=\"dataframe\">\n  <thead>\n    <tr style=\"text-align: right;\">\n      <th></th>\n      <th>COUPON_ID_hash</th>\n      <th>USER_ID_hash</th>\n      <th>GENRE_NAME</th>\n      <th>DISCOUNT_PRICE</th>\n      <th>PRICE_RATE</th>\n      <th>USABLE_DATE_MON</th>\n      <th>USABLE_DATE_TUE</th>\n      <th>USABLE_DATE_WED</th>\n      <th>USABLE_DATE_THU</th>\n      <th>USABLE_DATE_FRI</th>\n      <th>USABLE_DATE_SAT</th>\n      <th>USABLE_DATE_SUN</th>\n      <th>USABLE_DATE_HOLIDAY</th>\n      <th>USABLE_DATE_BEFORE_HOLIDAY</th>\n      <th>large_area_name</th>\n      <th>ken_name</th>\n      <th>small_area_name</th>\n    </tr>\n  </thead>\n  <tbody>\n    <tr>\n      <th>105</th>\n      <td>17</td>\n      <td>2602</td>\n      <td>3</td>\n      <td>0.453696</td>\n      <td>0.25</td>\n      <td>1.0</td>\n      <td>1.0</td>\n      <td>1.0</td>\n      <td>1.0</td>\n      <td>1.0</td>\n      <td>1.0</td>\n      <td>1.0</td>\n      <td>1.0</td>\n      <td>1.0</td>\n      <td>4</td>\n      <td>7</td>\n      <td>8</td>\n    </tr>\n    <tr>\n      <th>106</th>\n      <td>17</td>\n      <td>2602</td>\n      <td>3</td>\n      <td>0.453696</td>\n      <td>0.25</td>\n      <td>1.0</td>\n      <td>1.0</td>\n      <td>1.0</td>\n      <td>1.0</td>\n      <td>1.0</td>\n      <td>1.0</td>\n      <td>1.0</td>\n      <td>1.0</td>\n      <td>1.0</td>\n      <td>4</td>\n      <td>7</td>\n      <td>8</td>\n    </tr>\n    <tr>\n      <th>107</th>\n      <td>17</td>\n      <td>2602</td>\n      <td>3</td>\n      <td>0.453696</td>\n      <td>0.25</td>\n      <td>1.0</td>\n      <td>1.0</td>\n      <td>1.0</td>\n      <td>1.0</td>\n      <td>1.0</td>\n      <td>1.0</td>\n      <td>1.0</td>\n      <td>1.0</td>\n      <td>1.0</td>\n      <td>4</td>\n      <td>7</td>\n      <td>8</td>\n    </tr>\n  </tbody>\n</table>\n</div>",
      "text/plain": "     COUPON_ID_hash  USER_ID_hash  GENRE_NAME  DISCOUNT_PRICE  PRICE_RATE  \\\n105              17          2602           3        0.453696        0.25   \n106              17          2602           3        0.453696        0.25   \n107              17          2602           3        0.453696        0.25   \n\n     USABLE_DATE_MON  USABLE_DATE_TUE  USABLE_DATE_WED  USABLE_DATE_THU  \\\n105              1.0              1.0              1.0              1.0   \n106              1.0              1.0              1.0              1.0   \n107              1.0              1.0              1.0              1.0   \n\n     USABLE_DATE_FRI  USABLE_DATE_SAT  USABLE_DATE_SUN  USABLE_DATE_HOLIDAY  \\\n105              1.0              1.0              1.0                  1.0   \n106              1.0              1.0              1.0                  1.0   \n107              1.0              1.0              1.0                  1.0   \n\n     USABLE_DATE_BEFORE_HOLIDAY  large_area_name  ken_name  small_area_name  \n105                         1.0                4         7                8  \n106                         1.0                4         7                8  \n107                         1.0                4         7                8  "
     },
     "execution_count": 11,
     "metadata": {},
     "output_type": "execute_result"
    }
   ],
   "source": [
    "df_temp[df_temp.USABLE_DATE_BEFORE_HOLIDAY == 1].head(3)"
   ]
  },
  {
   "cell_type": "code",
   "execution_count": 12,
   "metadata": {},
   "outputs": [],
   "source": [
    "l = df_temp.shape[0]\n",
    "f = len(df_temp.columns)\n",
    "t = AnnoyIndex(f, 'angular')"
   ]
  },
  {
   "cell_type": "code",
   "execution_count": 13,
   "metadata": {},
   "outputs": [],
   "source": [
    "for i in range(l):\n",
    "    v = [df_temp.values[i][z] for z in range(f)]\n",
    "    t.add_item(i, v)"
   ]
  },
  {
   "cell_type": "code",
   "execution_count": 14,
   "metadata": {},
   "outputs": [
    {
     "data": {
      "text/plain": "True"
     },
     "execution_count": 14,
     "metadata": {},
     "output_type": "execute_result"
    }
   ],
   "source": [
    "t.build(50)"
   ]
  },
  {
   "cell_type": "code",
   "execution_count": 23,
   "metadata": {},
   "outputs": [],
   "source": [
    "sim = t.get_nns_by_item(105, 10)"
   ]
  },
  {
   "cell_type": "code",
   "execution_count": 24,
   "metadata": {},
   "outputs": [
    {
     "data": {
      "text/html": "<div>\n<style scoped>\n    .dataframe tbody tr th:only-of-type {\n        vertical-align: middle;\n    }\n\n    .dataframe tbody tr th {\n        vertical-align: top;\n    }\n\n    .dataframe thead th {\n        text-align: right;\n    }\n</style>\n<table border=\"1\" class=\"dataframe\">\n  <thead>\n    <tr style=\"text-align: right;\">\n      <th></th>\n      <th>COUPON_ID_hash</th>\n      <th>USER_ID_hash</th>\n      <th>GENRE_NAME</th>\n      <th>DISCOUNT_PRICE</th>\n      <th>PRICE_RATE</th>\n      <th>USABLE_DATE_MON</th>\n      <th>USABLE_DATE_TUE</th>\n      <th>USABLE_DATE_WED</th>\n      <th>USABLE_DATE_THU</th>\n      <th>USABLE_DATE_FRI</th>\n      <th>USABLE_DATE_SAT</th>\n      <th>USABLE_DATE_SUN</th>\n      <th>USABLE_DATE_HOLIDAY</th>\n      <th>USABLE_DATE_BEFORE_HOLIDAY</th>\n      <th>large_area_name</th>\n      <th>ken_name</th>\n      <th>small_area_name</th>\n    </tr>\n  </thead>\n  <tbody>\n    <tr>\n      <th>105</th>\n      <td>17</td>\n      <td>2602</td>\n      <td>3</td>\n      <td>0.453696</td>\n      <td>0.2500</td>\n      <td>1.0</td>\n      <td>1.0</td>\n      <td>1.0</td>\n      <td>1.0</td>\n      <td>1.0</td>\n      <td>1.0</td>\n      <td>1.0</td>\n      <td>1.0</td>\n      <td>1.0</td>\n      <td>4</td>\n      <td>7</td>\n      <td>8</td>\n    </tr>\n    <tr>\n      <th>3223</th>\n      <td>19</td>\n      <td>2972</td>\n      <td>3</td>\n      <td>0.393071</td>\n      <td>0.2809</td>\n      <td>1.0</td>\n      <td>1.0</td>\n      <td>1.0</td>\n      <td>0.0</td>\n      <td>1.0</td>\n      <td>1.0</td>\n      <td>1.0</td>\n      <td>1.0</td>\n      <td>1.0</td>\n      <td>4</td>\n      <td>9</td>\n      <td>7</td>\n    </tr>\n    <tr>\n      <th>122</th>\n      <td>17</td>\n      <td>2962</td>\n      <td>3</td>\n      <td>0.453696</td>\n      <td>0.2500</td>\n      <td>1.0</td>\n      <td>1.0</td>\n      <td>1.0</td>\n      <td>1.0</td>\n      <td>1.0</td>\n      <td>1.0</td>\n      <td>1.0</td>\n      <td>1.0</td>\n      <td>1.0</td>\n      <td>4</td>\n      <td>7</td>\n      <td>8</td>\n    </tr>\n    <tr>\n      <th>3222</th>\n      <td>19</td>\n      <td>2652</td>\n      <td>3</td>\n      <td>0.393071</td>\n      <td>0.2809</td>\n      <td>1.0</td>\n      <td>1.0</td>\n      <td>1.0</td>\n      <td>0.0</td>\n      <td>1.0</td>\n      <td>1.0</td>\n      <td>1.0</td>\n      <td>1.0</td>\n      <td>1.0</td>\n      <td>4</td>\n      <td>9</td>\n      <td>7</td>\n    </tr>\n    <tr>\n      <th>3237</th>\n      <td>19</td>\n      <td>3205</td>\n      <td>3</td>\n      <td>0.393071</td>\n      <td>0.2809</td>\n      <td>1.0</td>\n      <td>1.0</td>\n      <td>1.0</td>\n      <td>0.0</td>\n      <td>1.0</td>\n      <td>1.0</td>\n      <td>1.0</td>\n      <td>1.0</td>\n      <td>1.0</td>\n      <td>4</td>\n      <td>9</td>\n      <td>7</td>\n    </tr>\n  </tbody>\n</table>\n</div>",
      "text/plain": "      COUPON_ID_hash  USER_ID_hash  GENRE_NAME  DISCOUNT_PRICE  PRICE_RATE  \\\n105               17          2602           3        0.453696      0.2500   \n3223              19          2972           3        0.393071      0.2809   \n122               17          2962           3        0.453696      0.2500   \n3222              19          2652           3        0.393071      0.2809   \n3237              19          3205           3        0.393071      0.2809   \n\n      USABLE_DATE_MON  USABLE_DATE_TUE  USABLE_DATE_WED  USABLE_DATE_THU  \\\n105               1.0              1.0              1.0              1.0   \n3223              1.0              1.0              1.0              0.0   \n122               1.0              1.0              1.0              1.0   \n3222              1.0              1.0              1.0              0.0   \n3237              1.0              1.0              1.0              0.0   \n\n      USABLE_DATE_FRI  USABLE_DATE_SAT  USABLE_DATE_SUN  USABLE_DATE_HOLIDAY  \\\n105               1.0              1.0              1.0                  1.0   \n3223              1.0              1.0              1.0                  1.0   \n122               1.0              1.0              1.0                  1.0   \n3222              1.0              1.0              1.0                  1.0   \n3237              1.0              1.0              1.0                  1.0   \n\n      USABLE_DATE_BEFORE_HOLIDAY  large_area_name  ken_name  small_area_name  \n105                          1.0                4         7                8  \n3223                         1.0                4         9                7  \n122                          1.0                4         7                8  \n3222                         1.0                4         9                7  \n3237                         1.0                4         9                7  "
     },
     "execution_count": 24,
     "metadata": {},
     "output_type": "execute_result"
    }
   ],
   "source": [
    "df_temp.loc[sim].drop_duplicates('USER_ID_hash')"
   ]
  },
  {
   "cell_type": "code",
   "execution_count": 17,
   "metadata": {},
   "outputs": [
    {
     "data": {
      "text/plain": "array([1.82000000e+01, 2.87860000e+03, 3.00000000e+00, 4.17321072e-01,\n       2.68540000e-01, 1.00000000e+00, 1.00000000e+00, 1.00000000e+00,\n       4.00000000e-01, 1.00000000e+00, 1.00000000e+00, 1.00000000e+00,\n       1.00000000e+00, 1.00000000e+00, 4.00000000e+00, 8.20000000e+00,\n       7.40000000e+00])"
     },
     "execution_count": 17,
     "metadata": {},
     "output_type": "execute_result"
    }
   ],
   "source": [
    "np.mean(df_temp.loc[sim].drop_duplicates('USER_ID_hash').to_numpy(), axis=0)"
   ]
  },
  {
   "cell_type": "code",
   "execution_count": null,
   "metadata": {},
   "outputs": [],
   "source": []
  }
 ]
}