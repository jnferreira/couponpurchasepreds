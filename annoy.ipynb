{
 "nbformat": 4,
 "nbformat_minor": 2,
 "metadata": {
  "language_info": {
   "name": "python",
   "codemirror_mode": {
    "name": "ipython",
    "version": 3
   },
   "version": "2.7.17-final"
  },
  "orig_nbformat": 2,
  "file_extension": ".py",
  "mimetype": "text/x-python",
  "name": "python",
  "npconvert_exporter": "python",
  "pygments_lexer": "ipython3",
  "version": 3,
  "kernelspec": {
   "name": "python271764bitd514dbc1c5d74cd4a95833a7d7f70eea",
   "display_name": "Python 2.7.17 64-bit"
  }
 },
 "cells": [
  {
   "cell_type": "code",
   "execution_count": null,
   "metadata": {},
   "outputs": [],
   "source": [
    "import pandas as pd\n",
    "import numpy as np\n",
    "from sklearn.metrics.pairwise import cosine_similarity\n",
    "from sklearn.feature_extraction.text import CountVectorizer\n",
    "from sklearn.feature_extraction.text import TfidfVectorizer\n",
    "from sklearn.metrics.pairwise import cosine_similarity\n",
    "from annoy import AnnoyIndex\n",
    "import random"
   ]
  },
  {
   "cell_type": "code",
   "execution_count": null,
   "metadata": {},
   "outputs": [],
   "source": [
    "coupon_list_train = pd.read_csv('input/coupon_list_train.csv')\n",
    "coupon_list_test = pd.read_csv('input/coupon_list_test.csv')\n",
    "user_list = pd.read_csv('input/user_list.csv')\n",
    "coupon_purchases_train = pd.read_csv(\"input/coupon_detail_train.csv\")\n",
    "\n",
    "coupon_area_train = pd.read_csv('input/coupon_area_train.csv')\n",
    "coupon_area_test = pd.read_csv('input/coupon_area_test.csv')\n",
    "coupon_visit_train = pd.read_csv('input/coupon_visit_train.csv')"
   ]
  },
  {
   "cell_type": "code",
   "execution_count": null,
   "metadata": {},
   "outputs": [],
   "source": [
    "purchased_coupons_train = coupon_purchases_train.merge(coupon_list_train, on='COUPON_ID_hash', how='inner')"
   ]
  },
  {
   "cell_type": "code",
   "execution_count": null,
   "metadata": {},
   "outputs": [],
   "source": [
    "purchased_coupons_train.head(3)"
   ]
  },
  {
   "cell_type": "code",
   "execution_count": null,
   "metadata": {},
   "outputs": [],
   "source": [
    "features = ['COUPON_ID_hash', 'USER_ID_hash',\n",
    "            'GENRE_NAME', 'DISCOUNT_PRICE', 'PRICE_RATE',\n",
    "            'USABLE_DATE_MON', 'USABLE_DATE_TUE', 'USABLE_DATE_WED', 'USABLE_DATE_THU',\n",
    "            'USABLE_DATE_FRI', 'USABLE_DATE_SAT', 'USABLE_DATE_SUN', 'USABLE_DATE_HOLIDAY',\n",
    "            'USABLE_DATE_BEFORE_HOLIDAY', 'large_area_name', 'ken_name', 'small_area_name']"
   ]
  },
  {
   "cell_type": "code",
   "execution_count": null,
   "metadata": {},
   "outputs": [],
   "source": [
    "purchased_coupons_train = purchased_coupons_train[features]"
   ]
  },
  {
   "cell_type": "code",
   "execution_count": null,
   "metadata": {},
   "outputs": [],
   "source": [
    "df = purchased_coupons_train.copy()\n",
    "df = df[:1000] "
   ]
  },
  {
   "cell_type": "code",
   "execution_count": null,
   "metadata": {},
   "outputs": [],
   "source": [
    "# df['DISCOUNT_PRICE'] = 1 / np.log10(df['DISCOUNT_PRICE'])\n",
    "# df['PRICE_RATE'] = (df['PRICE_RATE'] / 100) ** 2\n",
    "# features.extend(['DISCOUNT_PRICE', 'PRICE_RATE'])"
   ]
  },
  {
   "cell_type": "code",
   "execution_count": null,
   "metadata": {},
   "outputs": [],
   "source": [
    "# categoricals = ['GENRE_NAME', 'USABLE_DATE_MON', 'USABLE_DATE_TUE', 'USABLE_DATE_WED',\n",
    "#                 'USABLE_DATE_THU', 'USABLE_DATE_FRI', 'USABLE_DATE_SAT', 'USABLE_DATE_SUN',\n",
    "#                 'USABLE_DATE_HOLIDAY', 'USABLE_DATE_BEFORE_HOLIDAY', 'large_area_name', 'ken_name', 'small_area_name']\n",
    "# df_categoricals = df[categoricals]\n",
    "# df_categoricals = pd.get_dummies(df_categoricals, dummy_na=False)"
   ]
  },
  {
   "cell_type": "code",
   "execution_count": null,
   "metadata": {},
   "outputs": [],
   "source": [
    "# continuous = list(set(features) - set(categoricals))\n",
    "# df = pd.concat([df[continuous], df_categoricals], axis=1)"
   ]
  },
  {
   "cell_type": "code",
   "execution_count": null,
   "metadata": {},
   "outputs": [],
   "source": [
    "# NAN_SUBSTITUTION_VALUE = 1\n",
    "# df = df.fillna(NAN_SUBSTITUTION_VALUE)"
   ]
  },
  {
   "cell_type": "code",
   "execution_count": null,
   "metadata": {},
   "outputs": [],
   "source": [
    "df_temp = df.copy()\n",
    "# df_temp = df_temp.drop(['COUPON_ID_hash', 'USER_ID_hash'], axis=1)\n",
    "\n",
    "categorical_cols = ['COUPON_ID_hash', 'USER_ID_hash', 'GENRE_NAME', 'large_area_name', 'ken_name', 'small_area_name']"
   ]
  },
  {
   "cell_type": "code",
   "execution_count": null,
   "metadata": {},
   "outputs": [],
   "source": [
    "df_temp"
   ]
  },
  {
   "cell_type": "code",
   "execution_count": null,
   "metadata": {},
   "outputs": [],
   "source": [
    "from sklearn.preprocessing import LabelEncoder\n",
    "\n",
    "le = LabelEncoder()\n",
    "\n",
    "df_temp[categorical_cols] = df_temp[categorical_cols].apply(lambda col: le.fit_transform(col))\n",
    "df_temp = df_temp.fillna(0)\n",
    "df_temp"
   ]
  },
  {
   "cell_type": "code",
   "execution_count": null,
   "metadata": {},
   "outputs": [],
   "source": [
    "l = df_temp.shape[0]\n",
    "f = len(df_temp.columns)\n",
    "t = AnnoyIndex(f, 'angular')"
   ]
  },
  {
   "cell_type": "code",
   "execution_count": null,
   "metadata": {},
   "outputs": [],
   "source": [
    "for i in range(l):\n",
    "    v = [df_temp.values[i][z] for z in range(f)]\n",
    "    t.add_item(i, v)"
   ]
  },
  {
   "cell_type": "code",
   "execution_count": null,
   "metadata": {},
   "outputs": [],
   "source": [
    "t.build(5)"
   ]
  },
  {
   "cell_type": "code",
   "execution_count": null,
   "metadata": {},
   "outputs": [],
   "source": [
    "#sim = t.get_nns_by_item(0, 5, include_distances=True)\n",
    "sim = t.get_nns_by_item(0, 5)\n",
    "sim"
   ]
  },
  {
   "cell_type": "code",
   "execution_count": null,
   "metadata": {},
   "outputs": [],
   "source": [
    "df_temp.loc[sim]"
   ]
  },
  {
   "cell_type": "code",
   "execution_count": null,
   "metadata": {},
   "outputs": [],
   "source": []
  }
 ]
}