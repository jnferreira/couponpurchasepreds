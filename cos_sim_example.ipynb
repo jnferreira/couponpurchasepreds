{
 "nbformat": 4,
 "nbformat_minor": 2,
 "metadata": {
  "language_info": {
   "name": "python",
   "codemirror_mode": {
    "name": "ipython",
    "version": 3
   },
   "version": "3.6.9-final"
  },
  "orig_nbformat": 2,
  "file_extension": ".py",
  "mimetype": "text/x-python",
  "name": "python",
  "npconvert_exporter": "python",
  "pygments_lexer": "ipython3",
  "version": 3,
  "kernelspec": {
   "name": "python3",
   "display_name": "Python 3"
  }
 },
 "cells": [
  {
   "cell_type": "code",
   "execution_count": 25,
   "metadata": {},
   "outputs": [],
   "source": [
    "from sklearn.feature_extraction.text import CountVectorizer\n",
    "from sklearn.feature_extraction.text import TfidfVectorizer\n",
    "import numpy as np\n",
    "import pandas as pd\n",
    "from sklearn.metrics.pairwise import cosine_similarity"
   ]
  },
  {
   "cell_type": "code",
   "execution_count": 5,
   "metadata": {},
   "outputs": [],
   "source": [
    "doc_trump = \"Mr. Trump became president after winning the political election. Though he lost the support of some republican friends, Trump is friends with President Putin\"\n",
    "doc_election = \"President Trump says Putin had no political interference is the election outcome. He says it was a witchhunt by political parties. He claimed President Putin is a friend who had nothing to do with the election\"\n",
    "doc_putin = \"Post elections, Vladimir Putin became President of Russia. President Putin had served as the Prime Minister earlier in his political career\"\n",
    "\n",
    "documents = [doc_trump, doc_election, doc_putin]"
   ]
  },
  {
   "cell_type": "code",
   "execution_count": 6,
   "metadata": {},
   "outputs": [],
   "source": [
    "count_vectorizer = CountVectorizer(stop_words='english')\n",
    "count_vectorizer = CountVectorizer()\n",
    "sparse_matrix = count_vectorizer.fit_transform(documents)\n"
   ]
  },
  {
   "cell_type": "code",
   "execution_count": 7,
   "metadata": {},
   "outputs": [
    {
     "data": {
      "text/html": "<div>\n<style scoped>\n    .dataframe tbody tr th:only-of-type {\n        vertical-align: middle;\n    }\n\n    .dataframe tbody tr th {\n        vertical-align: top;\n    }\n\n    .dataframe thead th {\n        text-align: right;\n    }\n</style>\n<table border=\"1\" class=\"dataframe\">\n  <thead>\n    <tr style=\"text-align: right;\">\n      <th></th>\n      <th>after</th>\n      <th>as</th>\n      <th>became</th>\n      <th>by</th>\n      <th>career</th>\n      <th>claimed</th>\n      <th>do</th>\n      <th>earlier</th>\n      <th>election</th>\n      <th>elections</th>\n      <th>...</th>\n      <th>the</th>\n      <th>though</th>\n      <th>to</th>\n      <th>trump</th>\n      <th>vladimir</th>\n      <th>was</th>\n      <th>who</th>\n      <th>winning</th>\n      <th>witchhunt</th>\n      <th>with</th>\n    </tr>\n  </thead>\n  <tbody>\n    <tr>\n      <th>doc_trump</th>\n      <td>1</td>\n      <td>0</td>\n      <td>1</td>\n      <td>0</td>\n      <td>0</td>\n      <td>0</td>\n      <td>0</td>\n      <td>0</td>\n      <td>1</td>\n      <td>0</td>\n      <td>...</td>\n      <td>2</td>\n      <td>1</td>\n      <td>0</td>\n      <td>2</td>\n      <td>0</td>\n      <td>0</td>\n      <td>0</td>\n      <td>1</td>\n      <td>0</td>\n      <td>1</td>\n    </tr>\n    <tr>\n      <th>doc_election</th>\n      <td>0</td>\n      <td>0</td>\n      <td>0</td>\n      <td>1</td>\n      <td>0</td>\n      <td>1</td>\n      <td>1</td>\n      <td>0</td>\n      <td>2</td>\n      <td>0</td>\n      <td>...</td>\n      <td>2</td>\n      <td>0</td>\n      <td>1</td>\n      <td>1</td>\n      <td>0</td>\n      <td>1</td>\n      <td>1</td>\n      <td>0</td>\n      <td>1</td>\n      <td>1</td>\n    </tr>\n    <tr>\n      <th>doc_putin</th>\n      <td>0</td>\n      <td>1</td>\n      <td>1</td>\n      <td>0</td>\n      <td>1</td>\n      <td>0</td>\n      <td>0</td>\n      <td>1</td>\n      <td>0</td>\n      <td>1</td>\n      <td>...</td>\n      <td>1</td>\n      <td>0</td>\n      <td>0</td>\n      <td>0</td>\n      <td>1</td>\n      <td>0</td>\n      <td>0</td>\n      <td>0</td>\n      <td>0</td>\n      <td>0</td>\n    </tr>\n  </tbody>\n</table>\n<p>3 rows × 48 columns</p>\n</div>",
      "text/plain": "              after  as  became  by  career  claimed  do  earlier  election  \\\ndoc_trump         1   0       1   0       0        0   0        0         1   \ndoc_election      0   0       0   1       0        1   1        0         2   \ndoc_putin         0   1       1   0       1        0   0        1         0   \n\n              elections  ...  the  though  to  trump  vladimir  was  who  \\\ndoc_trump             0  ...    2       1   0      2         0    0    0   \ndoc_election          0  ...    2       0   1      1         0    1    1   \ndoc_putin             1  ...    1       0   0      0         1    0    0   \n\n              winning  witchhunt  with  \ndoc_trump           1          0     1  \ndoc_election        0          1     1  \ndoc_putin           0          0     0  \n\n[3 rows x 48 columns]"
     },
     "execution_count": 7,
     "metadata": {},
     "output_type": "execute_result"
    }
   ],
   "source": [
    "doc_term_matrix = sparse_matrix.todense()\n",
    "df = pd.DataFrame(doc_term_matrix, \n",
    "                  columns=count_vectorizer.get_feature_names(), \n",
    "                  index=['doc_trump', 'doc_election', 'doc_putin'])\n",
    "df"
   ]
  },
  {
   "cell_type": "code",
   "execution_count": 15,
   "metadata": {},
   "outputs": [],
   "source": [
    "vectorizer = TfidfVectorizer()\n",
    "X = vectorizer.fit_transform(documents)"
   ]
  },
  {
   "cell_type": "code",
   "execution_count": 16,
   "metadata": {},
   "outputs": [
    {
     "data": {
      "text/html": "<div>\n<style scoped>\n    .dataframe tbody tr th:only-of-type {\n        vertical-align: middle;\n    }\n\n    .dataframe tbody tr th {\n        vertical-align: top;\n    }\n\n    .dataframe thead th {\n        text-align: right;\n    }\n</style>\n<table border=\"1\" class=\"dataframe\">\n  <thead>\n    <tr style=\"text-align: right;\">\n      <th></th>\n      <th>after</th>\n      <th>as</th>\n      <th>became</th>\n      <th>by</th>\n      <th>career</th>\n      <th>claimed</th>\n      <th>do</th>\n      <th>earlier</th>\n      <th>election</th>\n      <th>elections</th>\n      <th>...</th>\n      <th>the</th>\n      <th>though</th>\n      <th>to</th>\n      <th>trump</th>\n      <th>vladimir</th>\n      <th>was</th>\n      <th>who</th>\n      <th>winning</th>\n      <th>witchhunt</th>\n      <th>with</th>\n    </tr>\n  </thead>\n  <tbody>\n    <tr>\n      <th>doc_trump</th>\n      <td>0.216817</td>\n      <td>0.000000</td>\n      <td>0.164895</td>\n      <td>0.000000</td>\n      <td>0.000000</td>\n      <td>0.000000</td>\n      <td>0.000000</td>\n      <td>0.000000</td>\n      <td>0.164895</td>\n      <td>0.000000</td>\n      <td>...</td>\n      <td>0.256111</td>\n      <td>0.216817</td>\n      <td>0.000000</td>\n      <td>0.329790</td>\n      <td>0.000000</td>\n      <td>0.000000</td>\n      <td>0.000000</td>\n      <td>0.216817</td>\n      <td>0.000000</td>\n      <td>0.164895</td>\n    </tr>\n    <tr>\n      <th>doc_election</th>\n      <td>0.000000</td>\n      <td>0.000000</td>\n      <td>0.000000</td>\n      <td>0.171518</td>\n      <td>0.000000</td>\n      <td>0.171518</td>\n      <td>0.171518</td>\n      <td>0.000000</td>\n      <td>0.260887</td>\n      <td>0.000000</td>\n      <td>...</td>\n      <td>0.202602</td>\n      <td>0.000000</td>\n      <td>0.171518</td>\n      <td>0.130444</td>\n      <td>0.000000</td>\n      <td>0.171518</td>\n      <td>0.171518</td>\n      <td>0.000000</td>\n      <td>0.171518</td>\n      <td>0.130444</td>\n    </tr>\n    <tr>\n      <th>doc_putin</th>\n      <td>0.000000</td>\n      <td>0.240957</td>\n      <td>0.183254</td>\n      <td>0.000000</td>\n      <td>0.240957</td>\n      <td>0.000000</td>\n      <td>0.000000</td>\n      <td>0.240957</td>\n      <td>0.000000</td>\n      <td>0.240957</td>\n      <td>...</td>\n      <td>0.142313</td>\n      <td>0.000000</td>\n      <td>0.000000</td>\n      <td>0.000000</td>\n      <td>0.240957</td>\n      <td>0.000000</td>\n      <td>0.000000</td>\n      <td>0.000000</td>\n      <td>0.000000</td>\n      <td>0.000000</td>\n    </tr>\n  </tbody>\n</table>\n<p>3 rows × 48 columns</p>\n</div>",
      "text/plain": "                 after        as    became        by    career   claimed  \\\ndoc_trump     0.216817  0.000000  0.164895  0.000000  0.000000  0.000000   \ndoc_election  0.000000  0.000000  0.000000  0.171518  0.000000  0.171518   \ndoc_putin     0.000000  0.240957  0.183254  0.000000  0.240957  0.000000   \n\n                    do   earlier  election  elections  ...       the  \\\ndoc_trump     0.000000  0.000000  0.164895   0.000000  ...  0.256111   \ndoc_election  0.171518  0.000000  0.260887   0.000000  ...  0.202602   \ndoc_putin     0.000000  0.240957  0.000000   0.240957  ...  0.142313   \n\n                though        to     trump  vladimir       was       who  \\\ndoc_trump     0.216817  0.000000  0.329790  0.000000  0.000000  0.000000   \ndoc_election  0.000000  0.171518  0.130444  0.000000  0.171518  0.171518   \ndoc_putin     0.000000  0.000000  0.000000  0.240957  0.000000  0.000000   \n\n               winning  witchhunt      with  \ndoc_trump     0.216817   0.000000  0.164895  \ndoc_election  0.000000   0.171518  0.130444  \ndoc_putin     0.000000   0.000000  0.000000  \n\n[3 rows x 48 columns]"
     },
     "execution_count": 16,
     "metadata": {},
     "output_type": "execute_result"
    }
   ],
   "source": [
    "doc_term_matrix_tfid = X.todense()\n",
    "df_tfid = pd.DataFrame(doc_term_matrix_tfid, \n",
    "                  columns=count_vectorizer.get_feature_names(), \n",
    "                  index=['doc_trump', 'doc_election', 'doc_putin'])\n",
    "df_tfid"
   ]
  },
  {
   "cell_type": "code",
   "execution_count": 21,
   "metadata": {},
   "outputs": [
    {
     "data": {
      "text/plain": "array([[1.        , 0.51480485, 0.38890873],\n       [0.51480485, 1.        , 0.38829014],\n       [0.38890873, 0.38829014, 1.        ]])"
     },
     "execution_count": 21,
     "metadata": {},
     "output_type": "execute_result"
    }
   ],
   "source": [
    "# Cosine similarity with CountVectorizer\n",
    "cosine_similarity(df, df)"
   ]
  },
  {
   "cell_type": "code",
   "execution_count": 23,
   "metadata": {},
   "outputs": [
    {
     "data": {
      "text/plain": "array([[1.        , 0.34925133, 0.22445114],\n       [0.34925133, 1.        , 0.22080636],\n       [0.22445114, 0.22080636, 1.        ]])"
     },
     "execution_count": 23,
     "metadata": {},
     "output_type": "execute_result"
    }
   ],
   "source": [
    "# Cosine similarity with TfidfVectorizer\n",
    "cosine_similarity(df_tfid, df_tfid)"
   ]
  },
  {
   "cell_type": "code",
   "execution_count": null,
   "metadata": {},
   "outputs": [],
   "source": []
  }
 ]
}