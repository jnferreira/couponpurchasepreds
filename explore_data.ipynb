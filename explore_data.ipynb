{
 "nbformat": 4,
 "nbformat_minor": 2,
 "metadata": {
  "language_info": {
   "name": "python",
   "codemirror_mode": {
    "name": "ipython",
    "version": 3
   },
   "version": "3.6.9-final"
  },
  "orig_nbformat": 2,
  "file_extension": ".py",
  "mimetype": "text/x-python",
  "name": "python",
  "npconvert_exporter": "python",
  "pygments_lexer": "ipython3",
  "version": 3,
  "kernelspec": {
   "name": "993d5610-2ef8-4b31-98a2-a0673bb4fe18",
   "display_name": "'Python Interactive'"
  }
 },
 "cells": [
  {
   "source": [
    "import pandas as pd\n",
    "import numpy as np"
   ],
   "cell_type": "code",
   "outputs": [],
   "metadata": {},
   "execution_count": 5
  },
  {
   "source": [
    "coupon_list_train = pd.read_csv('input/coupon_list_train.csv')\n",
    "coupon_list_test = pd.read_csv('input/coupon_list_test.csv')\n",
    "user_list = pd.read_csv('input/user_list.csv')\n",
    "coupon_purchases_train = pd.read_csv(\"input/coupon_detail_train.csv\")\n",
    "\n",
    "coupon_area_train = pd.read_csv('input/coupon_area_train.csv')\n",
    "coupon_area_test = pd.read_csv('input/coupon_area_test.csv')\n",
    "coupon_visit_train = pd.read_csv('input/coupon_visit_train.csv')"
   ],
   "cell_type": "code",
   "outputs": [],
   "metadata": {},
   "execution_count": 6
  },
  {
   "source": [
    "### merge to obtain (USER_ID) <-> (COUPON_ID with features) training set\n",
    "purchased_coupons_train = coupon_purchases_train.merge(coupon_list_train, on='COUPON_ID_hash', how='inner')"
   ],
   "cell_type": "code",
   "outputs": [],
   "metadata": {},
   "execution_count": 7
  },
  {
   "source": [
    "### filter redundant features\n",
    "features = ['COUPON_ID_hash', 'USER_ID_hash',\n",
    "            'GENRE_NAME', 'DISCOUNT_PRICE', 'PRICE_RATE',\n",
    "            'USABLE_DATE_MON', 'USABLE_DATE_TUE', 'USABLE_DATE_WED', 'USABLE_DATE_THU',\n",
    "            'USABLE_DATE_FRI', 'USABLE_DATE_SAT', 'USABLE_DATE_SUN', 'USABLE_DATE_HOLIDAY',\n",
    "            'USABLE_DATE_BEFORE_HOLIDAY', 'large_area_name', 'ken_name', 'small_area_name']\n",
    "purchased_coupons_train = purchased_coupons_train[features]"
   ],
   "cell_type": "code",
   "outputs": [],
   "metadata": {},
   "execution_count": 8
  },
  {
   "cell_type": "code",
   "execution_count": 7,
   "metadata": {},
   "outputs": [],
   "source": [
    "### create 'dummyuser' records in order to merge training and testing sets in one\n",
    "coupon_list_test['USER_ID_hash'] = 'dummyuser'"
   ]
  },
  {
   "cell_type": "code",
   "execution_count": 8,
   "metadata": {},
   "outputs": [],
   "source": [
    "### filter testing set consistently with training set\n",
    "coupon_list_test = coupon_list_test[features]"
   ]
  },
  {
   "cell_type": "code",
   "execution_count": null,
   "metadata": {},
   "outputs": [],
   "source": []
  },
  {
   "cell_type": "code",
   "execution_count": null,
   "metadata": {},
   "outputs": [],
   "source": []
  },
  {
   "cell_type": "code",
   "execution_count": null,
   "metadata": {},
   "outputs": [],
   "source": []
  },
  {
   "cell_type": "code",
   "execution_count": null,
   "metadata": {},
   "outputs": [],
   "source": []
  },
  {
   "cell_type": "code",
   "execution_count": null,
   "metadata": {},
   "outputs": [],
   "source": []
  },
  {
   "cell_type": "code",
   "execution_count": null,
   "metadata": {},
   "outputs": [],
   "source": []
  }
 ]
}